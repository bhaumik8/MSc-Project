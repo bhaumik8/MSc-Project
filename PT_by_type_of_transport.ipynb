{
 "cells": [
  {
   "cell_type": "code",
   "execution_count": 1,
   "id": "6d2bd495",
   "metadata": {},
   "outputs": [],
   "source": [
    "# Importing all the project pre-rquisites\n",
    "\n",
    "import numpy as np\n",
    "import pandas as pd\n",
    "import tensorflow as tf\n",
    "import seaborn as sns\n",
    "import keras\n",
    "import matplotlib as plt\n",
    "import math\n",
    "from sklearn.metrics import mean_squared_error\n",
    "from sklearn.preprocessing import MinMaxScaler\n",
    "from sklearn.model_selection import train_test_split\n",
    "from matplotlib import pyplot as plt\n",
    "from keras import layers\n",
    "from keras import models\n",
    "from keras.models import Sequential\n",
    "from keras.layers import Dense\n",
    "from keras.layers import Dropout\n",
    "from keras.layers import LSTM"
   ]
  },
  {
   "cell_type": "code",
   "execution_count": 2,
   "id": "b6e37676",
   "metadata": {},
   "outputs": [],
   "source": [
    "# Importing dataset using short_name as df1\n",
    "\n",
    "df1=pd.read_csv(\"PT_by_type_of_transport.csv\")"
   ]
  },
  {
   "cell_type": "code",
   "execution_count": 3,
   "id": "63d96504",
   "metadata": {},
   "outputs": [
    {
     "data": {
      "text/html": [
       "<div>\n",
       "<style scoped>\n",
       "    .dataframe tbody tr th:only-of-type {\n",
       "        vertical-align: middle;\n",
       "    }\n",
       "\n",
       "    .dataframe tbody tr th {\n",
       "        vertical-align: top;\n",
       "    }\n",
       "\n",
       "    .dataframe thead th {\n",
       "        text-align: right;\n",
       "    }\n",
       "</style>\n",
       "<table border=\"1\" class=\"dataframe\">\n",
       "  <thead>\n",
       "    <tr style=\"text-align: right;\">\n",
       "      <th></th>\n",
       "      <th>Bus</th>\n",
       "      <th>Underground</th>\n",
       "      <th>DLR</th>\n",
       "      <th>Overground</th>\n",
       "    </tr>\n",
       "  </thead>\n",
       "  <tbody>\n",
       "    <tr>\n",
       "      <th>0</th>\n",
       "      <td>189.1</td>\n",
       "      <td>90.5</td>\n",
       "      <td>6.3</td>\n",
       "      <td>0.0</td>\n",
       "    </tr>\n",
       "    <tr>\n",
       "      <th>1</th>\n",
       "      <td>181.6</td>\n",
       "      <td>84.5</td>\n",
       "      <td>5.8</td>\n",
       "      <td>0.0</td>\n",
       "    </tr>\n",
       "    <tr>\n",
       "      <th>2</th>\n",
       "      <td>175.9</td>\n",
       "      <td>84.3</td>\n",
       "      <td>5.8</td>\n",
       "      <td>0.0</td>\n",
       "    </tr>\n",
       "    <tr>\n",
       "      <th>3</th>\n",
       "      <td>183.4</td>\n",
       "      <td>86.5</td>\n",
       "      <td>6.1</td>\n",
       "      <td>0.0</td>\n",
       "    </tr>\n",
       "    <tr>\n",
       "      <th>4</th>\n",
       "      <td>160.4</td>\n",
       "      <td>82.9</td>\n",
       "      <td>5.8</td>\n",
       "      <td>0.0</td>\n",
       "    </tr>\n",
       "  </tbody>\n",
       "</table>\n",
       "</div>"
      ],
      "text/plain": [
       "     Bus  Underground  DLR  Overground\n",
       "0  189.1         90.5  6.3         0.0\n",
       "1  181.6         84.5  5.8         0.0\n",
       "2  175.9         84.3  5.8         0.0\n",
       "3  183.4         86.5  6.1         0.0\n",
       "4  160.4         82.9  5.8         0.0"
      ]
     },
     "execution_count": 3,
     "metadata": {},
     "output_type": "execute_result"
    }
   ],
   "source": [
    "df1.head()"
   ]
  },
  {
   "cell_type": "code",
   "execution_count": 4,
   "id": "71412491",
   "metadata": {},
   "outputs": [
    {
     "name": "stdout",
     "output_type": "stream",
     "text": [
      "The total number of null values are: Bus            0\n",
      "Underground    0\n",
      "DLR            0\n",
      "Overground     0\n",
      "dtype: int64\n"
     ]
    }
   ],
   "source": [
    "#Checking null values\n",
    "\n",
    "total_null = df1.isnull().sum()\n",
    "print(\"The total number of null values are: \" + str(total_null))"
   ]
  },
  {
   "cell_type": "code",
   "execution_count": null,
   "id": "b6bcfc4e",
   "metadata": {},
   "outputs": [],
   "source": []
  },
  {
   "cell_type": "code",
   "execution_count": 5,
   "id": "6abf4f83",
   "metadata": {
    "scrolled": true
   },
   "outputs": [
    {
     "name": "stdout",
     "output_type": "stream",
     "text": [
      "<class 'pandas.core.frame.DataFrame'>\n",
      "RangeIndex: 151 entries, 0 to 150\n",
      "Data columns (total 4 columns):\n",
      " #   Column       Non-Null Count  Dtype  \n",
      "---  ------       --------------  -----  \n",
      " 0   Bus          151 non-null    float64\n",
      " 1   Underground  151 non-null    float64\n",
      " 2   DLR          151 non-null    float64\n",
      " 3   Overground   151 non-null    float64\n",
      "dtypes: float64(4)\n",
      "memory usage: 4.8 KB\n"
     ]
    }
   ],
   "source": [
    "df1.info()"
   ]
  },
  {
   "cell_type": "code",
   "execution_count": 6,
   "id": "054bbeea",
   "metadata": {},
   "outputs": [
    {
     "data": {
      "text/plain": [
       "<AxesSubplot:>"
      ]
     },
     "execution_count": 6,
     "metadata": {},
     "output_type": "execute_result"
    },
    {
     "data": {
      "image/png": "[encoded data removed]",
      "text/plain": [
       "<Figure size 432x288 with 2 Axes>"
      ]
     },
     "metadata": {
      "needs_background": "light"
     },
     "output_type": "display_data"
    }
   ],
   "source": [
    "# check correlation of each values\n",
    "\n",
    "corrmat = df1.corr()\n",
    "sns.heatmap(corrmat, vmax=1, square=True)"
   ]
  },
  {
   "cell_type": "code",
   "execution_count": 7,
   "id": "5cfcbc0a",
   "metadata": {},
   "outputs": [
    {
     "data": {
      "text/plain": [
       "<AxesSubplot:title={'center':'PT_by_type_of_transport'}>"
      ]
     },
     "execution_count": 7,
     "metadata": {},
     "output_type": "execute_result"
    },
    {
     "data": {
      "image/png": "[encoded data removed]",
      "text/plain": [
       "<Figure size 432x288 with 4 Axes>"
      ]
     },
     "metadata": {
      "needs_background": "light"
     },
     "output_type": "display_data"
    },
    {
     "data": {
      "image/png": "[encoded data removed]",
      "text/plain": [
       "<Figure size 432x288 with 1 Axes>"
      ]
     },
     "metadata": {
      "needs_background": "light"
     },
     "output_type": "display_data"
    }
   ],
   "source": [
    "#Visualize the PT_by_type_of_transport data\n",
    "df1.plot.line(subplots = True, title='PT_by_type_of_transport')\n",
    "df1.plot(title='PT_by_type_of_transport')"
   ]
  },
  {
   "cell_type": "code",
   "execution_count": 8,
   "id": "7046f465",
   "metadata": {
    "scrolled": true
   },
   "outputs": [
    {
     "name": "stdout",
     "output_type": "stream",
     "text": [
      "IQR Usage Rate by BUS: 24.149999999999977\n",
      "Previous shape: (151, 4)\n",
      "New Shape: (132, 4)\n"
     ]
    }
   ],
   "source": [
    "#IQR Usage Rate by BUS\n",
    "\n",
    "Q1 = np.percentile(df1['Bus'], 25, interpolation = 'midpoint')\n",
    "Q3 = np.percentile(df1['Bus'], 75, interpolation = 'midpoint')\n",
    "\n",
    "IQR =Q3-Q1\n",
    "print(\"IQR Usage Rate by BUS:\",IQR)\n",
    "print(\"Previous shape:\",df1.shape)\n",
    "#Upper bound\n",
    "upper = np.where(df1['Bus'] >= (Q3+1.5*IQR))\n",
    "#Lower Bound\n",
    "lower = np.where(df1['Bus'] <= (Q1-1.5*IQR))\n",
    "\n",
    "''' Removing the Outliers '''\n",
    "df1.drop(upper[0], inplace = True)\n",
    "df1.drop(lower[0], inplace = True)\n",
    "\n",
    "print(\"New Shape:\", df1.shape)"
   ]
  },
  {
   "cell_type": "code",
   "execution_count": 9,
   "id": "34fe0867",
   "metadata": {},
   "outputs": [
    {
     "name": "stdout",
     "output_type": "stream",
     "text": [
      "IQR Usage Rate by London Underground : 15.049999999999997\n",
      "Previous shape: (132, 4)\n",
      "New Shape: (131, 4)\n"
     ]
    }
   ],
   "source": [
    "#IQR London Underground (includes DLR up to Mar-17)\n",
    "\n",
    "Q1 = np.percentile(df1['Underground'], 25, interpolation = 'midpoint')\n",
    "Q3 = np.percentile(df1['Underground'], 75, interpolation = 'midpoint')\n",
    "\n",
    "IQR =Q3-Q1\n",
    "print(\"IQR Usage Rate by London Underground :\",IQR)\n",
    "print(\"Previous shape:\",df1.shape)\n",
    "#Upper bound\n",
    "upper = np.where(df1['Underground'] >= (Q3+1.5*IQR))\n",
    "#Lower Bound\n",
    "lower = np.where(df1['Underground'] <= (Q1-1.5*IQR))\n",
    "\n",
    "''' Removing the Outliers '''\n",
    "df1.drop(upper[0], inplace = True)\n",
    "df1.drop(lower[0], inplace = True)\n",
    "\n",
    "print(\"New Shape:\", df1.shape)"
   ]
  },
  {
   "cell_type": "code",
   "execution_count": 10,
   "id": "bc7d14f6",
   "metadata": {},
   "outputs": [
    {
     "name": "stdout",
     "output_type": "stream",
     "text": [
      "IQR Usage Rate by London DLR: 2.1000000000000005\n",
      "Previous shape: (131, 4)\n",
      "New Shape: (131, 4)\n"
     ]
    }
   ],
   "source": [
    "#IQR Crime Rate by London DLR\n",
    "\n",
    "Q1 = np.percentile(df1['DLR'], 25, interpolation = 'midpoint')\n",
    "Q3 = np.percentile(df1['DLR'], 75, interpolation = 'midpoint')\n",
    "\n",
    "IQR =Q3-Q1\n",
    "print(\"IQR Usage Rate by London DLR:\",IQR)\n",
    "print(\"Previous shape:\",df1.shape)\n",
    "#Upper bound\n",
    "upper = np.where(df1['DLR'] >= (Q3+1.5*IQR))\n",
    "#Lower Bound\n",
    "lower = np.where(df1['DLR'] <= (Q1-1.5*IQR))\n",
    "\n",
    "''' Removing the Outliers '''\n",
    "df1.drop(upper[0], inplace = True)\n",
    "df1.drop(lower[0], inplace = True)\n",
    "\n",
    "print(\"New Shape:\", df1.shape)"
   ]
  },
  {
   "cell_type": "code",
   "execution_count": 11,
   "id": "a4ba9e9e",
   "metadata": {},
   "outputs": [
    {
     "name": "stdout",
     "output_type": "stream",
     "text": [
      "IQR Usage Rate by London Overground: 5.15\n",
      "Previous shape: (131, 4)\n",
      "New Shape: (124, 4)\n"
     ]
    }
   ],
   "source": [
    "#IQR Crime Rate by London overground\n",
    "\n",
    "Q1 = np.percentile(df1['Overground'], 25, interpolation = 'midpoint')\n",
    "Q3 = np.percentile(df1['Overground'], 75, interpolation = 'midpoint')\n",
    "\n",
    "IQR =Q3-Q1\n",
    "print(\"IQR Usage Rate by London Overground:\",IQR)\n",
    "print(\"Previous shape:\",df1.shape)\n",
    "#Upper bound\n",
    "upper = np.where(df1['Overground'] >= (Q3+1.5*IQR))\n",
    "#Lower Bound\n",
    "lower = np.where(df1['Overground'] <= (Q1-1.5*IQR))\n",
    "\n",
    "''' Removing the Outliers '''\n",
    "df1.drop(upper[0], inplace = True)\n",
    "df1.drop(lower[0], inplace = True)\n",
    "\n",
    "print(\"New Shape:\", df1.shape)"
   ]
  },
  {
   "cell_type": "code",
   "execution_count": 12,
   "id": "43ad4dc7",
   "metadata": {},
   "outputs": [
    {
     "name": "stdout",
     "output_type": "stream",
     "text": [
      "Data =  [[ 7.32671697 16.41413839  2.57652251 10.3972852 ]]\n",
      "Normalized Data = [[0.35014535 0.78443513 0.12313255 0.49688845]]\n"
     ]
    }
   ],
   "source": [
    "#Normalize data\n",
    "\n",
    "from sklearn import preprocessing \n",
    "import numpy as np\n",
    "\n",
    "a = np.random.random((1,4))\n",
    "a = a*20\n",
    "print(\"Data = \", a)\n",
    "\n",
    "#Normalize the data attributes\n",
    "normalized = preprocessing.normalize(a)\n",
    "print(\"Normalized Data =\", normalized)"
   ]
  },
  {
   "cell_type": "code",
   "execution_count": 30,
   "id": "d540f564",
   "metadata": {},
   "outputs": [],
   "source": [
    "#split dataset in features and target variable\n",
    "x = df1[['Bus','Underground','Overground']]\n",
    "y = df1[['DLR']]"
   ]
  },
  {
   "cell_type": "code",
   "execution_count": 31,
   "id": "ca316d95",
   "metadata": {},
   "outputs": [],
   "source": [
    "# split the dataset into training and testing sets\n",
    "from sklearn.model_selection import train_test_split\n",
    "x_train,x_test,y_train,y_test=train_test_split(x,y,test_size=0.26,random_state=42)"
   ]
  },
  {
   "cell_type": "code",
   "execution_count": 32,
   "id": "3a70ddf2",
   "metadata": {},
   "outputs": [],
   "source": [
    "# feature scaling\n",
    "from sklearn.preprocessing import StandardScaler\n",
    "st_x= StandardScaler()\n",
    "x_train= st_x.fit_transform(x_train)\n",
    "x_test= st_x.transform(x_test)"
   ]
  },
  {
   "cell_type": "code",
   "execution_count": 33,
   "id": "00fc1266",
   "metadata": {},
   "outputs": [
    {
     "data": {
      "text/html": [
       "<div>\n",
       "<style scoped>\n",
       "    .dataframe tbody tr th:only-of-type {\n",
       "        vertical-align: middle;\n",
       "    }\n",
       "\n",
       "    .dataframe tbody tr th {\n",
       "        vertical-align: top;\n",
       "    }\n",
       "\n",
       "    .dataframe thead th {\n",
       "        text-align: right;\n",
       "    }\n",
       "</style>\n",
       "<table border=\"1\" class=\"dataframe\">\n",
       "  <thead>\n",
       "    <tr style=\"text-align: right;\">\n",
       "      <th></th>\n",
       "      <th>Bus</th>\n",
       "      <th>Underground</th>\n",
       "      <th>Overground</th>\n",
       "    </tr>\n",
       "  </thead>\n",
       "  <tbody>\n",
       "    <tr>\n",
       "      <th>7</th>\n",
       "      <td>179.9</td>\n",
       "      <td>90.3</td>\n",
       "      <td>5.6</td>\n",
       "    </tr>\n",
       "    <tr>\n",
       "      <th>8</th>\n",
       "      <td>178.8</td>\n",
       "      <td>90.6</td>\n",
       "      <td>5.4</td>\n",
       "    </tr>\n",
       "    <tr>\n",
       "      <th>9</th>\n",
       "      <td>140.1</td>\n",
       "      <td>72.5</td>\n",
       "      <td>3.5</td>\n",
       "    </tr>\n",
       "    <tr>\n",
       "      <th>10</th>\n",
       "      <td>183.0</td>\n",
       "      <td>84.4</td>\n",
       "      <td>5.2</td>\n",
       "    </tr>\n",
       "    <tr>\n",
       "      <th>11</th>\n",
       "      <td>177.2</td>\n",
       "      <td>87.8</td>\n",
       "      <td>5.2</td>\n",
       "    </tr>\n",
       "    <tr>\n",
       "      <th>...</th>\n",
       "      <td>...</td>\n",
       "      <td>...</td>\n",
       "      <td>...</td>\n",
       "    </tr>\n",
       "    <tr>\n",
       "      <th>126</th>\n",
       "      <td>141.0</td>\n",
       "      <td>91.2</td>\n",
       "      <td>10.6</td>\n",
       "    </tr>\n",
       "    <tr>\n",
       "      <th>127</th>\n",
       "      <td>169.4</td>\n",
       "      <td>105.8</td>\n",
       "      <td>14.1</td>\n",
       "    </tr>\n",
       "    <tr>\n",
       "      <th>128</th>\n",
       "      <td>165.2</td>\n",
       "      <td>106.2</td>\n",
       "      <td>15.6</td>\n",
       "    </tr>\n",
       "    <tr>\n",
       "      <th>149</th>\n",
       "      <td>129.8</td>\n",
       "      <td>69.7</td>\n",
       "      <td>10.6</td>\n",
       "    </tr>\n",
       "    <tr>\n",
       "      <th>150</th>\n",
       "      <td>124.9</td>\n",
       "      <td>73.7</td>\n",
       "      <td>11.5</td>\n",
       "    </tr>\n",
       "  </tbody>\n",
       "</table>\n",
       "<p>124 rows × 3 columns</p>\n",
       "</div>"
      ],
      "text/plain": [
       "       Bus  Underground  Overground\n",
       "7    179.9         90.3         5.6\n",
       "8    178.8         90.6         5.4\n",
       "9    140.1         72.5         3.5\n",
       "10   183.0         84.4         5.2\n",
       "11   177.2         87.8         5.2\n",
       "..     ...          ...         ...\n",
       "126  141.0         91.2        10.6\n",
       "127  169.4        105.8        14.1\n",
       "128  165.2        106.2        15.6\n",
       "149  129.8         69.7        10.6\n",
       "150  124.9         73.7        11.5\n",
       "\n",
       "[124 rows x 3 columns]"
      ]
     },
     "execution_count": 33,
     "metadata": {},
     "output_type": "execute_result"
    }
   ],
   "source": [
    "x"
   ]
  },
  {
   "cell_type": "code",
   "execution_count": 34,
   "id": "114cd0ff",
   "metadata": {},
   "outputs": [
    {
     "data": {
      "text/html": [
       "<div>\n",
       "<style scoped>\n",
       "    .dataframe tbody tr th:only-of-type {\n",
       "        vertical-align: middle;\n",
       "    }\n",
       "\n",
       "    .dataframe tbody tr th {\n",
       "        vertical-align: top;\n",
       "    }\n",
       "\n",
       "    .dataframe thead th {\n",
       "        text-align: right;\n",
       "    }\n",
       "</style>\n",
       "<table border=\"1\" class=\"dataframe\">\n",
       "  <thead>\n",
       "    <tr style=\"text-align: right;\">\n",
       "      <th></th>\n",
       "      <th>DLR</th>\n",
       "    </tr>\n",
       "  </thead>\n",
       "  <tbody>\n",
       "    <tr>\n",
       "      <th>7</th>\n",
       "      <td>6.7</td>\n",
       "    </tr>\n",
       "    <tr>\n",
       "      <th>8</th>\n",
       "      <td>6.4</td>\n",
       "    </tr>\n",
       "    <tr>\n",
       "      <th>9</th>\n",
       "      <td>4.8</td>\n",
       "    </tr>\n",
       "    <tr>\n",
       "      <th>10</th>\n",
       "      <td>6.3</td>\n",
       "    </tr>\n",
       "    <tr>\n",
       "      <th>11</th>\n",
       "      <td>6.5</td>\n",
       "    </tr>\n",
       "    <tr>\n",
       "      <th>...</th>\n",
       "      <td>...</td>\n",
       "    </tr>\n",
       "    <tr>\n",
       "      <th>126</th>\n",
       "      <td>7.5</td>\n",
       "    </tr>\n",
       "    <tr>\n",
       "      <th>127</th>\n",
       "      <td>9.2</td>\n",
       "    </tr>\n",
       "    <tr>\n",
       "      <th>128</th>\n",
       "      <td>9.3</td>\n",
       "    </tr>\n",
       "    <tr>\n",
       "      <th>149</th>\n",
       "      <td>7.1</td>\n",
       "    </tr>\n",
       "    <tr>\n",
       "      <th>150</th>\n",
       "      <td>7.1</td>\n",
       "    </tr>\n",
       "  </tbody>\n",
       "</table>\n",
       "<p>124 rows × 1 columns</p>\n",
       "</div>"
      ],
      "text/plain": [
       "     DLR\n",
       "7    6.7\n",
       "8    6.4\n",
       "9    4.8\n",
       "10   6.3\n",
       "11   6.5\n",
       "..   ...\n",
       "126  7.5\n",
       "127  9.2\n",
       "128  9.3\n",
       "149  7.1\n",
       "150  7.1\n",
       "\n",
       "[124 rows x 1 columns]"
      ]
     },
     "execution_count": 34,
     "metadata": {},
     "output_type": "execute_result"
    }
   ],
   "source": [
    "y"
   ]
  },
  {
   "cell_type": "code",
   "execution_count": 35,
   "id": "c56a3456",
   "metadata": {},
   "outputs": [
    {
     "data": {
      "text/plain": [
       "91"
      ]
     },
     "execution_count": 35,
     "metadata": {},
     "output_type": "execute_result"
    }
   ],
   "source": [
    "len(x_train)"
   ]
  },
  {
   "cell_type": "code",
   "execution_count": 36,
   "id": "2f16eb52",
   "metadata": {},
   "outputs": [
    {
     "data": {
      "text/plain": [
       "33"
      ]
     },
     "execution_count": 36,
     "metadata": {},
     "output_type": "execute_result"
    }
   ],
   "source": [
    "len(x_test)"
   ]
  },
  {
   "cell_type": "code",
   "execution_count": 37,
   "id": "f66cf3b7",
   "metadata": {},
   "outputs": [
    {
     "data": {
      "text/plain": [
       "array([[ 1.06898112, -0.7407612 , -0.9585284 ],\n",
       "       [ 0.75706456, -0.33185751, -0.57214486],\n",
       "       [-0.61943678, -0.60113555, -0.47554897],\n",
       "       [-0.61943678, -0.1323923 ,  0.68360165],\n",
       "       [ 1.36733609,  1.10429204, -0.2823572 ],\n",
       "       [ 0.77740694,  0.84498726,  1.13438244],\n",
       "       [ 0.0586427 ,  0.5557627 , -0.31455583],\n",
       "       [-3.09442687, -3.03461118, -0.47554897],\n",
       "       [-0.69402552,  0.605629  ,  1.13438244],\n",
       "       [ 0.11966985, -1.22945098, -2.2142749 ],\n",
       "       [ 0.82487251,  0.17677879, -0.66874074],\n",
       "       [-1.62299441,  0.02717988,  0.61920439],\n",
       "       [ 2.1335659 ,  0.68541509, -0.25015857],\n",
       "       [-0.45669771,  0.51586965,  0.65140302],\n",
       "       [-0.24649307, -1.13969163, -1.15172017],\n",
       "       [ 0.77740694,  1.02450595,  1.00558793],\n",
       "       [-0.97203811, -1.45883598, -1.40930919],\n",
       "       [ 0.16035462,  0.8848803 ,  0.87679342],\n",
       "       [-0.10409638, -1.4787825 , -1.40930919],\n",
       "       [ 0.10610826,  1.15415834,  0.87679342],\n",
       "       [ 0.85877648, -0.19223186, -0.5077476 ],\n",
       "       [ 0.07898508,  1.24391769,  1.06998519],\n",
       "       [ 0.30275131, -0.98011946, -2.08548039],\n",
       "       [ 0.62822946,  0.02717988, -0.733138  ],\n",
       "       [ 0.75028376, -0.35180403, -0.41115172],\n",
       "       [-1.92134938, -1.46880924, -0.25015857],\n",
       "       [ 1.2181586 , -0.70086816, -1.08732291],\n",
       "       [ 0.10610826, -0.61110881, -0.733138  ],\n",
       "       [-0.76861427, -1.12971837, -0.76533663],\n",
       "       [-0.28039704,  0.6554953 ,  0.78019753],\n",
       "       [-0.63977916, -0.37175055,  0.78019753],\n",
       "       [-0.12443876,  0.40616378,  0.55480713],\n",
       "       [ 1.04185794,  1.15415834,  1.16658107]])"
      ]
     },
     "execution_count": 37,
     "metadata": {},
     "output_type": "execute_result"
    }
   ],
   "source": [
    "x_test"
   ]
  },
  {
   "cell_type": "code",
   "execution_count": 38,
   "id": "8e0bbe2b",
   "metadata": {},
   "outputs": [
    {
     "data": {
      "text/plain": [
       "array([[-1.64333679, -2.07717814, -1.66689822],\n",
       "       [-0.01594604,  0.59565574,  0.68360165],\n",
       "       [ 0.98083079, -0.32188425, -1.02292565],\n",
       "       [ 1.20459702,  0.61560226, -0.47554897],\n",
       "       [-0.0701924 ,  0.17677879,  0.87679342],\n",
       "       [ 0.46549038,  0.59565574,  0.87679342],\n",
       "       [ 0.32987449, -0.34183077, -0.44335034],\n",
       "       [-2.05696527, -1.23942424, -0.15356269],\n",
       "       [ 0.1874778 ,  0.00723335, -0.21795995],\n",
       "       [ 0.76384535, -0.76070772, -1.44150782],\n",
       "       [ 0.90624204, -0.29196447, -0.57214486],\n",
       "       [-0.89066857, -0.55126925,  0.55480713],\n",
       "       [ 1.27240496, -0.19223186, -0.76533663],\n",
       "       [ 0.0518619 ,  1.73260746,  1.1987797 ],\n",
       "       [-1.59587123, -2.10709793, -1.24831605],\n",
       "       [ 0.75706456,  1.38354334,  1.1987797 ],\n",
       "       [ 0.180697  ,  1.04445247,  1.06998519],\n",
       "       [-0.10409638, -1.65830119, -2.02108313],\n",
       "       [ 0.39090164,  1.25389095,  1.10218381],\n",
       "       [-1.08731162, -0.56124251,  0.16842359],\n",
       "       [ 0.73672218,  0.35629748, -0.79753525],\n",
       "       [-0.42279373, -0.28199121, -0.47554897],\n",
       "       [ 1.00117317,  0.06707292, -0.25015857],\n",
       "       [ 0.40446323, -1.02998576, -1.08732291],\n",
       "       [ 0.27562813,  0.66546856,  1.06998519],\n",
       "       [ 0.54685992, -0.42161686, -0.37895309],\n",
       "       [-1.73826792,  0.28648466,  0.26501948],\n",
       "       [ 0.72316059, -1.22945098, -1.82789136],\n",
       "       [-0.44313612,  1.31373051,  1.61736187],\n",
       "       [ 0.68925661, -0.58118903, -0.41115172],\n",
       "       [-0.01594604,  0.53581617,  0.87679342],\n",
       "       [ 0.03830031,  0.91480008,  0.78019753],\n",
       "       [ 0.49261356,  1.3935166 ,  1.16658107],\n",
       "       [-0.01594604,  1.25389095,  1.13438244],\n",
       "       [ 0.42480562, -1.11974511, -1.66689822],\n",
       "       [ 0.66213343, -0.43159012, -1.05512428],\n",
       "       [-1.06018844, -0.07255273,  0.45821125],\n",
       "       [ 0.51295595, -1.56854185, -2.2142749 ],\n",
       "       [ 0.27562813, -0.86044033, -1.05512428],\n",
       "       [ 1.29274735,  0.12691248, -0.2823572 ],\n",
       "       [ 0.43836721,  0.5557627 ,  0.7479989 ],\n",
       "       [ 0.07220429,  0.51586965,  0.9733893 ],\n",
       "       [ 0.56720231, -0.89036011, -1.86008999],\n",
       "       [-2.00949971, -1.10977185, -0.02476818],\n",
       "       [-2.33497786, -0.89036011, -0.47554897],\n",
       "       [ 0.28240893,  0.54578943,  0.7479989 ],\n",
       "       [-1.26361228, -1.30923707, -1.08732291],\n",
       "       [ 0.07220429, -0.6908949 , -0.41115172],\n",
       "       [ 0.20103939,  0.58568248,  0.9733893 ],\n",
       "       [ 1.17747384, -0.79062751, -0.5077476 ],\n",
       "       [-0.19224671,  0.44605683,  0.84459479],\n",
       "       [ 0.47905197,  0.11693922,  0.90899204],\n",
       "       [-0.40923214,  0.56573596,  0.65140302],\n",
       "       [ 0.49261356,  1.65282138,  1.16658107],\n",
       "       [-0.64655996,  0.33635096,  0.84459479],\n",
       "       [-1.3788858 , -1.61840815, -1.28051468],\n",
       "       [ 1.89623808,  1.34365029,  0.39381399],\n",
       "       [ 1.06220032,  0.24659161, -0.41115172],\n",
       "       [-1.3788858 ,  0.08701944,  0.7479989 ],\n",
       "       [ 0.34343608,  1.80242029,  1.13438244],\n",
       "       [ 2.17425067,  1.61292834,  0.16842359],\n",
       "       [-1.36532421,  0.0969927 ,  0.52260851],\n",
       "       [-0.26005466, -0.80060077, -0.57214486],\n",
       "       [ 0.26206654,  1.20402464,  1.84275226],\n",
       "       [ 0.34343608,  0.18675205, -0.08916543],\n",
       "       [-0.02950763, -0.25207143,  0.58700576],\n",
       "       [-0.28039704,  1.06439899,  0.7479989 ],\n",
       "       [-0.11765797, -0.91030664, -0.53994623],\n",
       "       [ 0.180697  , -0.84049381, -0.60434348],\n",
       "       [-1.27717387,  0.10696596,  0.58700576],\n",
       "       [ 0.22816257, -0.95019968, -2.14987764],\n",
       "       [ 1.00117317,  0.84498726, -0.34675446],\n",
       "       [ 0.07220429, -1.03995903, -1.11952154],\n",
       "       [-2.39600501, -2.75535987, -2.76165158],\n",
       "       [-0.56519042,  0.28648466, -0.5077476 ],\n",
       "       [ 0.56042151,  0.97463965,  1.1987797 ],\n",
       "       [-0.10409638,  0.42611031,  0.71580027],\n",
       "       [ 0.41124403,  0.8848803 ,  0.94119067],\n",
       "       [-0.27361625,  0.78514769,  0.55480713],\n",
       "       [ 0.15357382,  0.89485356,  0.65140302],\n",
       "       [ 0.02473872,  0.146859  ,  0.7479989 ],\n",
       "       [-0.17190432,  0.81506747,  0.81239616],\n",
       "       [-3.42668582, -2.63568075, -0.18576132],\n",
       "       [ 0.93336522, -0.75073446, -1.02292565],\n",
       "       [ 0.98083079,  0.57570922,  0.84459479],\n",
       "       [ 0.94014602,  1.40348986,  1.13438244],\n",
       "       [-2.07052686, -0.82054729, -0.15356269],\n",
       "       [ 0.94692681, -0.30193773, -0.99072702],\n",
       "       [ 0.56720231,  1.49324921,  1.10218381],\n",
       "       [ 1.58432152,  0.39619052, -0.41115172],\n",
       "       [-0.90423016, -0.26204469,  0.65140302]])"
      ]
     },
     "execution_count": 38,
     "metadata": {},
     "output_type": "execute_result"
    }
   ],
   "source": [
    "x_train"
   ]
  },
  {
   "cell_type": "code",
   "execution_count": 39,
   "id": "a77a42d7",
   "metadata": {},
   "outputs": [
    {
     "data": {
      "text/html": [
       "<div>\n",
       "<style scoped>\n",
       "    .dataframe tbody tr th:only-of-type {\n",
       "        vertical-align: middle;\n",
       "    }\n",
       "\n",
       "    .dataframe tbody tr th {\n",
       "        vertical-align: top;\n",
       "    }\n",
       "\n",
       "    .dataframe thead th {\n",
       "        text-align: right;\n",
       "    }\n",
       "</style>\n",
       "<table border=\"1\" class=\"dataframe\">\n",
       "  <thead>\n",
       "    <tr style=\"text-align: right;\">\n",
       "      <th></th>\n",
       "      <th>DLR</th>\n",
       "    </tr>\n",
       "  </thead>\n",
       "  <tbody>\n",
       "    <tr>\n",
       "      <th>22</th>\n",
       "      <td>5.2</td>\n",
       "    </tr>\n",
       "    <tr>\n",
       "      <th>118</th>\n",
       "      <td>9.7</td>\n",
       "    </tr>\n",
       "    <tr>\n",
       "      <th>29</th>\n",
       "      <td>7.9</td>\n",
       "    </tr>\n",
       "    <tr>\n",
       "      <th>47</th>\n",
       "      <td>8.2</td>\n",
       "    </tr>\n",
       "    <tr>\n",
       "      <th>88</th>\n",
       "      <td>9.6</td>\n",
       "    </tr>\n",
       "    <tr>\n",
       "      <th>...</th>\n",
       "      <td>...</td>\n",
       "    </tr>\n",
       "    <tr>\n",
       "      <th>113</th>\n",
       "      <td>7.5</td>\n",
       "    </tr>\n",
       "    <tr>\n",
       "      <th>21</th>\n",
       "      <td>7.1</td>\n",
       "    </tr>\n",
       "    <tr>\n",
       "      <th>99</th>\n",
       "      <td>9.8</td>\n",
       "    </tr>\n",
       "    <tr>\n",
       "      <th>58</th>\n",
       "      <td>8.7</td>\n",
       "    </tr>\n",
       "    <tr>\n",
       "      <th>109</th>\n",
       "      <td>8.6</td>\n",
       "    </tr>\n",
       "  </tbody>\n",
       "</table>\n",
       "<p>91 rows × 1 columns</p>\n",
       "</div>"
      ],
      "text/plain": [
       "     DLR\n",
       "22   5.2\n",
       "118  9.7\n",
       "29   7.9\n",
       "47   8.2\n",
       "88   9.6\n",
       "..   ...\n",
       "113  7.5\n",
       "21   7.1\n",
       "99   9.8\n",
       "58   8.7\n",
       "109  8.6\n",
       "\n",
       "[91 rows x 1 columns]"
      ]
     },
     "execution_count": 39,
     "metadata": {},
     "output_type": "execute_result"
    }
   ],
   "source": [
    "y_train"
   ]
  },
  {
   "cell_type": "code",
   "execution_count": 40,
   "id": "b071bf05",
   "metadata": {},
   "outputs": [
    {
     "data": {
      "text/html": [
       "<div>\n",
       "<style scoped>\n",
       "    .dataframe tbody tr th:only-of-type {\n",
       "        vertical-align: middle;\n",
       "    }\n",
       "\n",
       "    .dataframe tbody tr th {\n",
       "        vertical-align: top;\n",
       "    }\n",
       "\n",
       "    .dataframe thead th {\n",
       "        text-align: right;\n",
       "    }\n",
       "</style>\n",
       "<table border=\"1\" class=\"dataframe\">\n",
       "  <thead>\n",
       "    <tr style=\"text-align: right;\">\n",
       "      <th></th>\n",
       "      <th>DLR</th>\n",
       "    </tr>\n",
       "  </thead>\n",
       "  <tbody>\n",
       "    <tr>\n",
       "      <th>25</th>\n",
       "      <td>7.3</td>\n",
       "    </tr>\n",
       "    <tr>\n",
       "      <th>49</th>\n",
       "      <td>7.8</td>\n",
       "    </tr>\n",
       "    <tr>\n",
       "      <th>43</th>\n",
       "      <td>7.5</td>\n",
       "    </tr>\n",
       "    <tr>\n",
       "      <th>83</th>\n",
       "      <td>8.8</td>\n",
       "    </tr>\n",
       "    <tr>\n",
       "      <th>60</th>\n",
       "      <td>9.2</td>\n",
       "    </tr>\n",
       "    <tr>\n",
       "      <th>97</th>\n",
       "      <td>9.6</td>\n",
       "    </tr>\n",
       "    <tr>\n",
       "      <th>63</th>\n",
       "      <td>9.0</td>\n",
       "    </tr>\n",
       "    <tr>\n",
       "      <th>149</th>\n",
       "      <td>7.1</td>\n",
       "    </tr>\n",
       "    <tr>\n",
       "      <th>128</th>\n",
       "      <td>9.3</td>\n",
       "    </tr>\n",
       "    <tr>\n",
       "      <th>11</th>\n",
       "      <td>6.5</td>\n",
       "    </tr>\n",
       "    <tr>\n",
       "      <th>34</th>\n",
       "      <td>7.7</td>\n",
       "    </tr>\n",
       "    <tr>\n",
       "      <th>108</th>\n",
       "      <td>9.0</td>\n",
       "    </tr>\n",
       "    <tr>\n",
       "      <th>51</th>\n",
       "      <td>8.3</td>\n",
       "    </tr>\n",
       "    <tr>\n",
       "      <th>102</th>\n",
       "      <td>9.3</td>\n",
       "    </tr>\n",
       "    <tr>\n",
       "      <th>26</th>\n",
       "      <td>7.0</td>\n",
       "    </tr>\n",
       "    <tr>\n",
       "      <th>84</th>\n",
       "      <td>9.6</td>\n",
       "    </tr>\n",
       "    <tr>\n",
       "      <th>17</th>\n",
       "      <td>6.2</td>\n",
       "    </tr>\n",
       "    <tr>\n",
       "      <th>107</th>\n",
       "      <td>9.6</td>\n",
       "    </tr>\n",
       "    <tr>\n",
       "      <th>18</th>\n",
       "      <td>6.4</td>\n",
       "    </tr>\n",
       "    <tr>\n",
       "      <th>120</th>\n",
       "      <td>9.6</td>\n",
       "    </tr>\n",
       "    <tr>\n",
       "      <th>54</th>\n",
       "      <td>8.3</td>\n",
       "    </tr>\n",
       "    <tr>\n",
       "      <th>85</th>\n",
       "      <td>10.1</td>\n",
       "    </tr>\n",
       "    <tr>\n",
       "      <th>7</th>\n",
       "      <td>6.7</td>\n",
       "    </tr>\n",
       "    <tr>\n",
       "      <th>33</th>\n",
       "      <td>8.0</td>\n",
       "    </tr>\n",
       "    <tr>\n",
       "      <th>38</th>\n",
       "      <td>7.6</td>\n",
       "    </tr>\n",
       "    <tr>\n",
       "      <th>74</th>\n",
       "      <td>7.1</td>\n",
       "    </tr>\n",
       "    <tr>\n",
       "      <th>19</th>\n",
       "      <td>7.5</td>\n",
       "    </tr>\n",
       "    <tr>\n",
       "      <th>31</th>\n",
       "      <td>8.7</td>\n",
       "    </tr>\n",
       "    <tr>\n",
       "      <th>52</th>\n",
       "      <td>7.6</td>\n",
       "    </tr>\n",
       "    <tr>\n",
       "      <th>114</th>\n",
       "      <td>9.3</td>\n",
       "    </tr>\n",
       "    <tr>\n",
       "      <th>96</th>\n",
       "      <td>8.6</td>\n",
       "    </tr>\n",
       "    <tr>\n",
       "      <th>80</th>\n",
       "      <td>9.2</td>\n",
       "    </tr>\n",
       "    <tr>\n",
       "      <th>71</th>\n",
       "      <td>9.6</td>\n",
       "    </tr>\n",
       "  </tbody>\n",
       "</table>\n",
       "</div>"
      ],
      "text/plain": [
       "      DLR\n",
       "25    7.3\n",
       "49    7.8\n",
       "43    7.5\n",
       "83    8.8\n",
       "60    9.2\n",
       "97    9.6\n",
       "63    9.0\n",
       "149   7.1\n",
       "128   9.3\n",
       "11    6.5\n",
       "34    7.7\n",
       "108   9.0\n",
       "51    8.3\n",
       "102   9.3\n",
       "26    7.0\n",
       "84    9.6\n",
       "17    6.2\n",
       "107   9.6\n",
       "18    6.4\n",
       "120   9.6\n",
       "54    8.3\n",
       "85   10.1\n",
       "7     6.7\n",
       "33    8.0\n",
       "38    7.6\n",
       "74    7.1\n",
       "19    7.5\n",
       "31    8.7\n",
       "52    7.6\n",
       "114   9.3\n",
       "96    8.6\n",
       "80    9.2\n",
       "71    9.6"
      ]
     },
     "execution_count": 40,
     "metadata": {},
     "output_type": "execute_result"
    }
   ],
   "source": [
    "y_test"
   ]
  },
  {
   "cell_type": "code",
   "execution_count": null,
   "id": "9792cf7e",
   "metadata": {},
   "outputs": [],
   "source": []
  }
 ],
 "metadata": {
  "kernelspec": {
   "display_name": "Python 3",
   "language": "python",
   "name": "python3"
  },
  "language_info": {
   "codemirror_mode": {
    "name": "ipython",
    "version": 3
   },
   "file_extension": ".py",
   "mimetype": "text/x-python",
   "name": "python",
   "nbconvert_exporter": "python",
   "pygments_lexer": "ipython3",
   "version": "3.8.8"
  }
 },
 "nbformat": 4,
 "nbformat_minor": 5
}
