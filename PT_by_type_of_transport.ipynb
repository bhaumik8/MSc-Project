{
 "cells": [
  {
   "cell_type": "code",
   "execution_count": 1,
   "id": "6d2bd495",
   "metadata": {},
   "outputs": [],
   "source": [
    "# Importing all the project pre-rquisites\n",
    "\n",
    "import numpy as np\n",
    "import pandas as pd\n",
    "import tensorflow as tf\n",
    "import seaborn as sns\n"
   ]
  },
  {
   "cell_type": "code",
   "execution_count": 3,
   "id": "b6e37676",
   "metadata": {},
   "outputs": [],
   "source": [
    "# Importing dataset using short_name as df1\n",
    "\n",
    "df1=pd.read_csv(\"E:/Data/use data/csv/PT_by_type_of_transport.csv\")"
   ]
  },
  {
   "cell_type": "code",
   "execution_count": 4,
   "id": "63d96504",
   "metadata": {},
   "outputs": [
    {
     "data": {
      "text/html": [
       "<div>\n",
       "<style scoped>\n",
       "    .dataframe tbody tr th:only-of-type {\n",
       "        vertical-align: middle;\n",
       "    }\n",
       "\n",
       "    .dataframe tbody tr th {\n",
       "        vertical-align: top;\n",
       "    }\n",
       "\n",
       "    .dataframe thead th {\n",
       "        text-align: right;\n",
       "    }\n",
       "</style>\n",
       "<table border=\"1\" class=\"dataframe\">\n",
       "  <thead>\n",
       "    <tr style=\"text-align: right;\">\n",
       "      <th></th>\n",
       "      <th>Bus</th>\n",
       "      <th>Underground</th>\n",
       "      <th>DLR</th>\n",
       "      <th>Overground</th>\n",
       "    </tr>\n",
       "  </thead>\n",
       "  <tbody>\n",
       "    <tr>\n",
       "      <th>0</th>\n",
       "      <td>189.1</td>\n",
       "      <td>90.5</td>\n",
       "      <td>6.3</td>\n",
       "      <td>0.0</td>\n",
       "    </tr>\n",
       "    <tr>\n",
       "      <th>1</th>\n",
       "      <td>181.6</td>\n",
       "      <td>84.5</td>\n",
       "      <td>5.8</td>\n",
       "      <td>0.0</td>\n",
       "    </tr>\n",
       "    <tr>\n",
       "      <th>2</th>\n",
       "      <td>175.9</td>\n",
       "      <td>84.3</td>\n",
       "      <td>5.8</td>\n",
       "      <td>0.0</td>\n",
       "    </tr>\n",
       "    <tr>\n",
       "      <th>3</th>\n",
       "      <td>183.4</td>\n",
       "      <td>86.5</td>\n",
       "      <td>6.1</td>\n",
       "      <td>0.0</td>\n",
       "    </tr>\n",
       "    <tr>\n",
       "      <th>4</th>\n",
       "      <td>160.4</td>\n",
       "      <td>82.9</td>\n",
       "      <td>5.8</td>\n",
       "      <td>0.0</td>\n",
       "    </tr>\n",
       "  </tbody>\n",
       "</table>\n",
       "</div>"
      ],
      "text/plain": [
       "     Bus  Underground  DLR  Overground\n",
       "0  189.1         90.5  6.3         0.0\n",
       "1  181.6         84.5  5.8         0.0\n",
       "2  175.9         84.3  5.8         0.0\n",
       "3  183.4         86.5  6.1         0.0\n",
       "4  160.4         82.9  5.8         0.0"
      ]
     },
     "execution_count": 4,
     "metadata": {},
     "output_type": "execute_result"
    }
   ],
   "source": [
    "df1.head()"
   ]
  },
  {
   "cell_type": "code",
   "execution_count": 5,
   "id": "71412491",
   "metadata": {},
   "outputs": [
    {
     "name": "stdout",
     "output_type": "stream",
     "text": [
      "The total number of null values are: Bus            0\n",
      "Underground    0\n",
      "DLR            0\n",
      "Overground     0\n",
      "dtype: int64\n"
     ]
    }
   ],
   "source": [
    "#Checking null values\n",
    "\n",
    "total_null = df1.isnull().sum()\n",
    "print(\"The total number of null values are: \" + str(total_null))"
   ]
  },
  {
   "cell_type": "code",
   "execution_count": 6,
   "id": "6abf4f83",
   "metadata": {
    "scrolled": true
   },
   "outputs": [
    {
     "name": "stdout",
     "output_type": "stream",
     "text": [
      "<class 'pandas.core.frame.DataFrame'>\n",
      "RangeIndex: 151 entries, 0 to 150\n",
      "Data columns (total 4 columns):\n",
      " #   Column       Non-Null Count  Dtype  \n",
      "---  ------       --------------  -----  \n",
      " 0   Bus          151 non-null    float64\n",
      " 1   Underground  151 non-null    float64\n",
      " 2   DLR          151 non-null    float64\n",
      " 3   Overground   151 non-null    float64\n",
      "dtypes: float64(4)\n",
      "memory usage: 4.8 KB\n"
     ]
    }
   ],
   "source": [
    "df1.info()"
   ]
  },
  {
   "cell_type": "code",
   "execution_count": 7,
   "id": "054bbeea",
   "metadata": {},
   "outputs": [
    {
     "data": {
      "text/plain": [
       "<AxesSubplot:>"
      ]
     },
     "execution_count": 7,
     "metadata": {},
     "output_type": "execute_result"
    },
    {
     "data": {
      "image/png": "[encoded data removed]",
      "text/plain": [
       "<Figure size 432x288 with 2 Axes>"
      ]
     },
     "metadata": {
      "needs_background": "light"
     },
     "output_type": "display_data"
    }
   ],
   "source": [
    "# check correlation of each values\n",
    "\n",
    "corrmat = df1.corr()\n",
    "sns.heatmap(corrmat, vmax=1, square=True)"
   ]
  },
  {
   "cell_type": "code",
   "execution_count": 8,
   "id": "5cfcbc0a",
   "metadata": {},
   "outputs": [
    {
     "data": {
      "text/plain": [
       "<AxesSubplot:title={'center':'PT_by_type_of_transport'}>"
      ]
     },
     "execution_count": 8,
     "metadata": {},
     "output_type": "execute_result"
    },
    {
     "data": {
      "image/png": "[encoded data removed]",
      "text/plain": [
       "<Figure size 432x288 with 4 Axes>"
      ]
     },
     "metadata": {
      "needs_background": "light"
     },
     "output_type": "display_data"
    },
    {
     "data": {
      "image/png": "[encoded data removed]",
      "text/plain": [
       "<Figure size 432x288 with 1 Axes>"
      ]
     },
     "metadata": {
      "needs_background": "light"
     },
     "output_type": "display_data"
    }
   ],
   "source": [
    "#Visualize the PT_by_type_of_transport data\n",
    "df1.plot.line(subplots = True, title='PT_by_type_of_transport')\n",
    "df1.plot(title='PT_by_type_of_transport')"
   ]
  },
  {
   "cell_type": "code",
   "execution_count": 9,
   "id": "b13af3b7",
   "metadata": {
    "collapsed": true
   },
   "outputs": [
    {
     "name": "stdout",
     "output_type": "stream",
     "text": [
      "       Bus\n",
      "0    189.1\n",
      "1    181.6\n",
      "2    175.9\n",
      "3    183.4\n",
      "4    160.4\n",
      "..     ...\n",
      "144  104.0\n",
      "145  106.6\n",
      "146  108.8\n",
      "147   98.5\n",
      "148  115.2\n",
      "\n",
      "[149 rows x 1 columns]\n",
      "(149, 1)\n"
     ]
    }
   ],
   "source": [
    "#Drop the high and low columns\n",
    "df1.drop(['Underground', 'DLR', 'Overground'], axis = 1, inplace = True)\n",
    "#Drop the bottom 2 columns\n",
    "df1.drop(df1.tail(2).index,inplace=True)\n",
    "print(df1)\n",
    "print(df1.shape)"
   ]
  },
  {
   "cell_type": "code",
   "execution_count": 10,
   "id": "efe448ca",
   "metadata": {
    "collapsed": true
   },
   "outputs": [
    {
     "data": {
      "text/plain": [
       "array([[189.1],\n",
       "       [181.6],\n",
       "       [175.9],\n",
       "       [183.4],\n",
       "       [160.4],\n",
       "       [175.8],\n",
       "       [189.8],\n",
       "       [179.9],\n",
       "       [178.8],\n",
       "       [140.1],\n",
       "       [183. ],\n",
       "       [177.2],\n",
       "       [173.9],\n",
       "       [183.8],\n",
       "       [186.1],\n",
       "       [181.7],\n",
       "       [186.7],\n",
       "       [161.1],\n",
       "       [173.9],\n",
       "       [193.4],\n",
       "       [185.2],\n",
       "       [189.4],\n",
       "       [151.2],\n",
       "       [181.4],\n",
       "       [179.5],\n",
       "       [191.2],\n",
       "       [171.8],\n",
       "       [189.2],\n",
       "       [176.5],\n",
       "       [189.9],\n",
       "       [167.1],\n",
       "       [177. ],\n",
       "       [194.2],\n",
       "       [184.7],\n",
       "       [187.6],\n",
       "       [151.9],\n",
       "       [178.1],\n",
       "       [180.3],\n",
       "       [186.5],\n",
       "       [171.6],\n",
       "       [188.8],\n",
       "       [183.5],\n",
       "       [190.2],\n",
       "       [166.3],\n",
       "       [173.7],\n",
       "       [194.5],\n",
       "       [186.3],\n",
       "       [193.2],\n",
       "       [155.1],\n",
       "       [186.6],\n",
       "       [185.6],\n",
       "       [206.9],\n",
       "       [164.1],\n",
       "       [192.8],\n",
       "       [188.1],\n",
       "       [191.1],\n",
       "       [169.2],\n",
       "       [176.5],\n",
       "       [198.8],\n",
       "       [190.2],\n",
       "       [195.6],\n",
       "       [156.8],\n",
       "       [178.2],\n",
       "       [176.3],\n",
       "       [207.5],\n",
       "       [203.4],\n",
       "       [180.5],\n",
       "       [189.9],\n",
       "       [182.5],\n",
       "       [162.3],\n",
       "       [175. ],\n",
       "       [190.8],\n",
       "       [181.2],\n",
       "       [186.6],\n",
       "       [147.1],\n",
       "       [179.5],\n",
       "       [176. ],\n",
       "       [159.4],\n",
       "       [189.3],\n",
       "       [181.9],\n",
       "       [173.6],\n",
       "       [177.7],\n",
       "       [155.3],\n",
       "       [166.3],\n",
       "       [186.9],\n",
       "       [176.6],\n",
       "       [182.7],\n",
       "       [145.8],\n",
       "       [174.4],\n",
       "       [172.9],\n",
       "       [178.4],\n",
       "       [172.6],\n",
       "       [182.3],\n",
       "       [175.8],\n",
       "       [181.5],\n",
       "       [155.1],\n",
       "       [166. ],\n",
       "       [186.9],\n",
       "       [178.1],\n",
       "       [183.8],\n",
       "       [145.1],\n",
       "       [175.2],\n",
       "       [168.7],\n",
       "       [176.5],\n",
       "       [165.9],\n",
       "       [179.6],\n",
       "       [173.9],\n",
       "       [177.8],\n",
       "       [151.5],\n",
       "       [162.1],\n",
       "       [183.7],\n",
       "       [175.2],\n",
       "       [180.5],\n",
       "       [144.9],\n",
       "       [171.3],\n",
       "       [171.3],\n",
       "       [182.7],\n",
       "       [156.6],\n",
       "       [175.2],\n",
       "       [171.4],\n",
       "       [177. ],\n",
       "       [149.8],\n",
       "       [159.8],\n",
       "       [179.3],\n",
       "       [168.9],\n",
       "       [176.2],\n",
       "       [141. ],\n",
       "       [169.4],\n",
       "       [165.2],\n",
       "       [126.4],\n",
       "       [ 30.2],\n",
       "       [ 32.5],\n",
       "       [ 47. ],\n",
       "       [ 66.7],\n",
       "       [ 75.2],\n",
       "       [ 94.8],\n",
       "       [102. ],\n",
       "       [ 88.9],\n",
       "       [ 89. ],\n",
       "       [ 57.5],\n",
       "       [ 51.6],\n",
       "       [ 56.9],\n",
       "       [ 72.9],\n",
       "       [ 95.6],\n",
       "       [104. ],\n",
       "       [106.6],\n",
       "       [108.8],\n",
       "       [ 98.5],\n",
       "       [115.2]])"
      ]
     },
     "execution_count": 10,
     "metadata": {},
     "output_type": "execute_result"
    }
   ],
   "source": [
    "#Convert the data into numpy array\n",
    "df1 = df1.to_numpy()\n",
    "df1"
   ]
  },
  {
   "cell_type": "code",
   "execution_count": 11,
   "id": "bb96e53c",
   "metadata": {
    "collapsed": true
   },
   "outputs": [
    {
     "name": "stdout",
     "output_type": "stream",
     "text": [
      "(119, 1)\n",
      "(30, 1)\n"
     ]
    }
   ],
   "source": [
    "#From the dataset, separate into training and testing data with 80/20 percentile\n",
    "dataset_train = np.array(df1[:int(df1.shape[0]*0.8)])\n",
    "dataset_test = np.array(df1[int(df1.shape[0]*0.8):])\n",
    "#Find number of columns for each dataset\n",
    "print(dataset_train.shape)\n",
    "print(dataset_test.shape)"
   ]
  },
  {
   "cell_type": "code",
   "execution_count": 13,
   "id": "b0783a13",
   "metadata": {},
   "outputs": [
    {
     "data": {
      "text/plain": [
       "(119, 1)"
      ]
     },
     "execution_count": 13,
     "metadata": {},
     "output_type": "execute_result"
    }
   ],
   "source": [
    "#Scale the data to range[0,1]\n",
    "#MinMaxScalar subtracts the minimum value in each feature and divides by the range(diff\n",
    "from sklearn.preprocessing import MinMaxScaler\n",
    "scalar = MinMaxScaler(feature_range = (0,1))\n",
    "train_data = scalar.fit_transform(dataset_train)\n",
    "train_data.shape"
   ]
  },
  {
   "cell_type": "code",
   "execution_count": 14,
   "id": "01d07c52",
   "metadata": {},
   "outputs": [
    {
     "data": {
      "text/plain": [
       "(98, 1, 1)"
      ]
     },
     "execution_count": 14,
     "metadata": {},
     "output_type": "execute_result"
    }
   ],
   "source": [
    "#Declare the x_train and y_train\n",
    "x_train = train_data[0:98]\n",
    "y_train = train_data[1:99]\n",
    "x_train = np.reshape(x_train, (98,1,1))\n",
    "x_train.shape"
   ]
  },
  {
   "cell_type": "code",
   "execution_count": 17,
   "id": "fccab427",
   "metadata": {},
   "outputs": [
    {
     "name": "stdout",
     "output_type": "stream",
     "text": [
      "Model: \"sequential_1\"\n",
      "_________________________________________________________________\n",
      " Layer (type)                Output Shape              Param #   \n",
      "=================================================================\n",
      " lstm (LSTM)                 (None, None, 98)          39200     \n",
      "                                                                 \n",
      " dropout (Dropout)           (None, None, 98)          0         \n",
      "                                                                 \n",
      " lstm_1 (LSTM)               (None, None, 98)          77224     \n",
      "                                                                 \n",
      " dropout_1 (Dropout)         (None, None, 98)          0         \n",
      "                                                                 \n",
      " lstm_2 (LSTM)               (None, None, 98)          77224     \n",
      "                                                                 \n",
      " dropout_2 (Dropout)         (None, None, 98)          0         \n",
      "                                                                 \n",
      " lstm_3 (LSTM)               (None, 98)                77224     \n",
      "                                                                 \n",
      " dropout_3 (Dropout)         (None, 98)                0         \n",
      "                                                                 \n",
      " dense (Dense)               (None, 1)                 99        \n",
      "                                                                 \n",
      "=================================================================\n",
      "Total params: 270,971\n",
      "Trainable params: 270,971\n",
      "Non-trainable params: 0\n",
      "_________________________________________________________________\n"
     ]
    }
   ],
   "source": [
    "#importing important libraries\n",
    "import keras\n",
    "from keras import layers\n",
    "from keras import models\n",
    "from keras.models import Sequential\n",
    "from keras.layers import Dense\n",
    "from keras.layers import Dropout\n",
    "from keras.layers import LSTM\n",
    "#Instantiate the Sequential model class\n",
    "model = Sequential()\n",
    "#Set the number of neurons/nodes with the units parameter\n",
    "#Return_sequences=True reflects adding more layers\n",
    "model.add(LSTM(units=98, return_sequences=True, input_shape=(None, 1)))\n",
    "#Add dropout to reduce over-fitting\n",
    "model.add(Dropout(0.2))\n",
    "model.add(LSTM(units=98, return_sequences=True))\n",
    "model.add(Dropout(0.2))\n",
    "model.add(LSTM(units=98, return_sequences=True))\n",
    "model.add(Dropout(0.2))\n",
    "model.add(LSTM(units=98))\n",
    "model.add(Dropout(0.2))\n",
    "#Add dense layer to reduce spacial parameters of the vector\n",
    "model.add(Dense(units=1))\n",
    "model.summary()"
   ]
  },
  {
   "cell_type": "code",
   "execution_count": 18,
   "id": "dec93cd0",
   "metadata": {},
   "outputs": [],
   "source": [
    "#Compile the model\n",
    "model.compile(optimizer = 'adam', loss = \"mean_squared_error\")"
   ]
  },
  {
   "cell_type": "code",
   "execution_count": 19,
   "id": "0a18f41e",
   "metadata": {},
   "outputs": [
    {
     "name": "stdout",
     "output_type": "stream",
     "text": [
      "Epoch 1/100\n",
      "1/1 [==============================] - 6s 6s/step - loss: 0.3661\n",
      "Epoch 2/100\n",
      "1/1 [==============================] - 0s 11ms/step - loss: 0.3602\n",
      "Epoch 3/100\n",
      "1/1 [==============================] - 0s 11ms/step - loss: 0.3544\n",
      "Epoch 4/100\n",
      "1/1 [==============================] - 0s 14ms/step - loss: 0.3484\n",
      "Epoch 5/100\n",
      "1/1 [==============================] - 0s 11ms/step - loss: 0.3419\n",
      "Epoch 6/100\n",
      "1/1 [==============================] - 0s 10ms/step - loss: 0.3351\n",
      "Epoch 7/100\n",
      "1/1 [==============================] - 0s 14ms/step - loss: 0.3285\n",
      "Epoch 8/100\n",
      "1/1 [==============================] - 0s 11ms/step - loss: 0.3205\n",
      "Epoch 9/100\n",
      "1/1 [==============================] - 0s 10ms/step - loss: 0.3134\n",
      "Epoch 10/100\n",
      "1/1 [==============================] - 0s 11ms/step - loss: 0.3052\n",
      "Epoch 11/100\n",
      "1/1 [==============================] - 0s 11ms/step - loss: 0.2960\n",
      "Epoch 12/100\n",
      "1/1 [==============================] - 0s 10ms/step - loss: 0.2868\n",
      "Epoch 13/100\n",
      "1/1 [==============================] - 0s 8ms/step - loss: 0.2774\n",
      "Epoch 14/100\n",
      "1/1 [==============================] - 0s 10ms/step - loss: 0.2678\n",
      "Epoch 15/100\n",
      "1/1 [==============================] - 0s 10ms/step - loss: 0.2555\n",
      "Epoch 16/100\n",
      "1/1 [==============================] - 0s 11ms/step - loss: 0.2441\n",
      "Epoch 17/100\n",
      "1/1 [==============================] - 0s 9ms/step - loss: 0.2318\n",
      "Epoch 18/100\n",
      "1/1 [==============================] - 0s 11ms/step - loss: 0.2190\n",
      "Epoch 19/100\n",
      "1/1 [==============================] - 0s 10ms/step - loss: 0.2054\n",
      "Epoch 20/100\n",
      "1/1 [==============================] - 0s 10ms/step - loss: 0.1876\n",
      "Epoch 21/100\n",
      "1/1 [==============================] - 0s 10ms/step - loss: 0.1715\n",
      "Epoch 22/100\n",
      "1/1 [==============================] - 0s 10ms/step - loss: 0.1557\n",
      "Epoch 23/100\n",
      "1/1 [==============================] - 0s 10ms/step - loss: 0.1400\n",
      "Epoch 24/100\n",
      "1/1 [==============================] - 0s 9ms/step - loss: 0.1232\n",
      "Epoch 25/100\n",
      "1/1 [==============================] - 0s 12ms/step - loss: 0.1059\n",
      "Epoch 26/100\n",
      "1/1 [==============================] - 0s 11ms/step - loss: 0.0890\n",
      "Epoch 27/100\n",
      "1/1 [==============================] - 0s 11ms/step - loss: 0.0751\n",
      "Epoch 28/100\n",
      "1/1 [==============================] - 0s 9ms/step - loss: 0.0573\n",
      "Epoch 29/100\n",
      "1/1 [==============================] - 0s 11ms/step - loss: 0.0502\n",
      "Epoch 30/100\n",
      "1/1 [==============================] - 0s 11ms/step - loss: 0.0418\n",
      "Epoch 31/100\n",
      "1/1 [==============================] - 0s 9ms/step - loss: 0.0427\n",
      "Epoch 32/100\n",
      "1/1 [==============================] - 0s 9ms/step - loss: 0.0442\n",
      "Epoch 33/100\n",
      "1/1 [==============================] - 0s 10ms/step - loss: 0.0508\n",
      "Epoch 34/100\n",
      "1/1 [==============================] - 0s 11ms/step - loss: 0.0696\n",
      "Epoch 35/100\n",
      "1/1 [==============================] - 0s 9ms/step - loss: 0.0684\n",
      "Epoch 36/100\n",
      "1/1 [==============================] - 0s 12ms/step - loss: 0.0655\n",
      "Epoch 37/100\n",
      "1/1 [==============================] - 0s 11ms/step - loss: 0.0607\n",
      "Epoch 38/100\n",
      "1/1 [==============================] - 0s 11ms/step - loss: 0.0550\n",
      "Epoch 39/100\n",
      "1/1 [==============================] - 0s 10ms/step - loss: 0.0475\n",
      "Epoch 40/100\n",
      "1/1 [==============================] - 0s 11ms/step - loss: 0.0468\n",
      "Epoch 41/100\n",
      "1/1 [==============================] - 0s 11ms/step - loss: 0.0397\n",
      "Epoch 42/100\n",
      "1/1 [==============================] - 0s 11ms/step - loss: 0.0418\n",
      "Epoch 43/100\n",
      "1/1 [==============================] - 0s 10ms/step - loss: 0.0405\n",
      "Epoch 44/100\n",
      "1/1 [==============================] - 0s 9ms/step - loss: 0.0420\n",
      "Epoch 45/100\n",
      "1/1 [==============================] - 0s 11ms/step - loss: 0.0414\n",
      "Epoch 46/100\n",
      "1/1 [==============================] - 0s 11ms/step - loss: 0.0442\n",
      "Epoch 47/100\n",
      "1/1 [==============================] - 0s 10ms/step - loss: 0.0478\n",
      "Epoch 48/100\n",
      "1/1 [==============================] - 0s 8ms/step - loss: 0.0438\n",
      "Epoch 49/100\n",
      "1/1 [==============================] - 0s 10ms/step - loss: 0.0445\n",
      "Epoch 50/100\n",
      "1/1 [==============================] - 0s 10ms/step - loss: 0.0451\n",
      "Epoch 51/100\n",
      "1/1 [==============================] - 0s 10ms/step - loss: 0.0461\n",
      "Epoch 52/100\n",
      "1/1 [==============================] - 0s 9ms/step - loss: 0.0448\n",
      "Epoch 53/100\n",
      "1/1 [==============================] - 0s 10ms/step - loss: 0.0425\n",
      "Epoch 54/100\n",
      "1/1 [==============================] - 0s 12ms/step - loss: 0.0417\n",
      "Epoch 55/100\n",
      "1/1 [==============================] - 0s 9ms/step - loss: 0.0381\n",
      "Epoch 56/100\n",
      "1/1 [==============================] - 0s 13ms/step - loss: 0.0447\n",
      "Epoch 57/100\n",
      "1/1 [==============================] - 0s 10ms/step - loss: 0.0399\n",
      "Epoch 58/100\n",
      "1/1 [==============================] - 0s 11ms/step - loss: 0.0410\n",
      "Epoch 59/100\n",
      "1/1 [==============================] - 0s 8ms/step - loss: 0.0391\n",
      "Epoch 60/100\n",
      "1/1 [==============================] - 0s 9ms/step - loss: 0.0386\n",
      "Epoch 61/100\n",
      "1/1 [==============================] - 0s 9ms/step - loss: 0.0385\n",
      "Epoch 62/100\n",
      "1/1 [==============================] - 0s 8ms/step - loss: 0.0426\n",
      "Epoch 63/100\n",
      "1/1 [==============================] - 0s 9ms/step - loss: 0.0397\n",
      "Epoch 64/100\n",
      "1/1 [==============================] - 0s 9ms/step - loss: 0.0401\n",
      "Epoch 65/100\n",
      "1/1 [==============================] - 0s 9ms/step - loss: 0.0439\n",
      "Epoch 66/100\n",
      "1/1 [==============================] - 0s 10ms/step - loss: 0.0422\n",
      "Epoch 67/100\n",
      "1/1 [==============================] - 0s 10ms/step - loss: 0.0400\n",
      "Epoch 68/100\n",
      "1/1 [==============================] - 0s 10ms/step - loss: 0.0429\n",
      "Epoch 69/100\n",
      "1/1 [==============================] - 0s 9ms/step - loss: 0.0410\n",
      "Epoch 70/100\n",
      "1/1 [==============================] - 0s 10ms/step - loss: 0.0415\n",
      "Epoch 71/100\n",
      "1/1 [==============================] - 0s 9ms/step - loss: 0.0414\n",
      "Epoch 72/100\n",
      "1/1 [==============================] - 0s 9ms/step - loss: 0.0380\n",
      "Epoch 73/100\n",
      "1/1 [==============================] - 0s 9ms/step - loss: 0.0417\n",
      "Epoch 74/100\n",
      "1/1 [==============================] - 0s 10ms/step - loss: 0.0385\n",
      "Epoch 75/100\n",
      "1/1 [==============================] - 0s 11ms/step - loss: 0.0394\n",
      "Epoch 76/100\n",
      "1/1 [==============================] - 0s 10ms/step - loss: 0.0381\n",
      "Epoch 77/100\n",
      "1/1 [==============================] - 0s 9ms/step - loss: 0.0403\n",
      "Epoch 78/100\n",
      "1/1 [==============================] - 0s 9ms/step - loss: 0.0410\n",
      "Epoch 79/100\n",
      "1/1 [==============================] - 0s 9ms/step - loss: 0.0398\n",
      "Epoch 80/100\n",
      "1/1 [==============================] - 0s 9ms/step - loss: 0.0399\n",
      "Epoch 81/100\n",
      "1/1 [==============================] - 0s 10ms/step - loss: 0.0389\n",
      "Epoch 82/100\n",
      "1/1 [==============================] - 0s 9ms/step - loss: 0.0378\n",
      "Epoch 83/100\n",
      "1/1 [==============================] - 0s 8ms/step - loss: 0.0419\n",
      "Epoch 84/100\n",
      "1/1 [==============================] - 0s 9ms/step - loss: 0.0391\n",
      "Epoch 85/100\n",
      "1/1 [==============================] - 0s 10ms/step - loss: 0.0410\n",
      "Epoch 86/100\n",
      "1/1 [==============================] - 0s 8ms/step - loss: 0.0405\n",
      "Epoch 87/100\n",
      "1/1 [==============================] - 0s 8ms/step - loss: 0.0388\n",
      "Epoch 88/100\n",
      "1/1 [==============================] - 0s 8ms/step - loss: 0.0426\n",
      "Epoch 89/100\n",
      "1/1 [==============================] - 0s 11ms/step - loss: 0.0398\n",
      "Epoch 90/100\n",
      "1/1 [==============================] - 0s 9ms/step - loss: 0.0380\n",
      "Epoch 91/100\n",
      "1/1 [==============================] - 0s 8ms/step - loss: 0.0386\n",
      "Epoch 92/100\n",
      "1/1 [==============================] - 0s 8ms/step - loss: 0.0427\n",
      "Epoch 93/100\n",
      "1/1 [==============================] - 0s 8ms/step - loss: 0.0400\n",
      "Epoch 94/100\n",
      "1/1 [==============================] - 0s 8ms/step - loss: 0.0400\n",
      "Epoch 95/100\n",
      "1/1 [==============================] - 0s 10ms/step - loss: 0.0398\n",
      "Epoch 96/100\n",
      "1/1 [==============================] - 0s 8ms/step - loss: 0.0416\n",
      "Epoch 97/100\n",
      "1/1 [==============================] - 0s 9ms/step - loss: 0.0367\n",
      "Epoch 98/100\n",
      "1/1 [==============================] - 0s 8ms/step - loss: 0.0394\n",
      "Epoch 99/100\n",
      "1/1 [==============================] - 0s 8ms/step - loss: 0.0393\n",
      "Epoch 100/100\n",
      "1/1 [==============================] - 0s 8ms/step - loss: 0.0395\n"
     ]
    },
    {
     "data": {
      "text/plain": [
       "<keras.callbacks.History at 0x1f477954fd0>"
      ]
     },
     "execution_count": 19,
     "metadata": {},
     "output_type": "execute_result"
    }
   ],
   "source": [
    "#Train the model for 100 epochs with 32 training examples used in each iteration\n",
    "model.fit(x_train, y_train, epochs = 100, batch_size = 98)"
   ]
  },
  {
   "cell_type": "code",
   "execution_count": 20,
   "id": "98dc8674",
   "metadata": {},
   "outputs": [
    {
     "name": "stdout",
     "output_type": "stream",
     "text": [
      "[[171.4]\n",
      " [177. ]\n",
      " [149.8]\n",
      " [159.8]\n",
      " [179.3]\n",
      " [168.9]\n",
      " [176.2]\n",
      " [141. ]\n",
      " [169.4]\n",
      " [165.2]\n",
      " [126.4]\n",
      " [ 30.2]\n",
      " [ 32.5]\n",
      " [ 47. ]\n",
      " [ 66.7]\n",
      " [ 75.2]\n",
      " [ 94.8]\n",
      " [102. ]\n",
      " [ 88.9]\n",
      " [ 89. ]\n",
      " [ 57.5]\n",
      " [ 51.6]\n",
      " [ 56.9]\n",
      " [ 72.9]\n",
      " [ 95.6]\n",
      " [104. ]\n",
      " [106.6]\n",
      " [108.8]\n",
      " [ 98.5]\n",
      " [115.2]]\n",
      "(30, 1)\n"
     ]
    }
   ],
   "source": [
    "#Display the testing dataset\n",
    "print(dataset_test)\n",
    "print(dataset_test.shape)"
   ]
  },
  {
   "cell_type": "code",
   "execution_count": 27,
   "id": "0276cfe5",
   "metadata": {},
   "outputs": [
    {
     "data": {
      "text/plain": [
       "array([[177.1935 ],\n",
       "       [177.9547 ],\n",
       "       [174.2617 ],\n",
       "       [175.61781],\n",
       "       [178.26735],\n",
       "       [176.85376],\n",
       "       [177.84593],\n",
       "       [173.07103],\n",
       "       [176.9217 ],\n",
       "       [176.35107],\n",
       "       [171.10324],\n",
       "       [158.59726],\n",
       "       [158.88329],\n",
       "       [160.70389],\n",
       "       [163.22214],\n",
       "       [164.3232 ],\n",
       "       [166.89156],\n",
       "       [167.84427],\n",
       "       [166.11438],\n",
       "       [166.12753],\n",
       "       [162.04   ],\n",
       "       [161.28748],\n",
       "       [161.96327],\n",
       "       [164.02444],\n",
       "       [166.99718],\n",
       "       [168.10971],\n",
       "       [168.45526],\n",
       "       [168.7481 ],\n",
       "       [167.38057],\n",
       "       [169.60202]], dtype=float32)"
      ]
     },
     "execution_count": 27,
     "metadata": {},
     "output_type": "execute_result"
    }
   ],
   "source": [
    "#Reshape the training data and scale\n",
    "inputs = np.reshape(scalar.transform(dataset_test), (30,1,1))\n",
    "#Reverse the scaled predictions to their original values\n",
    "bus_transport_prediction = scalar.inverse_transform(model.predict(inputs))\n",
    "bus_transport_prediction"
   ]
  },
  {
   "cell_type": "code",
   "execution_count": 28,
   "id": "602d1310",
   "metadata": {},
   "outputs": [
    {
     "data": {
      "text/plain": [
       "array([177.1935 , 177.9547 , 174.2617 , 175.61781, 178.26735, 176.85376,\n",
       "       177.84593, 173.07103, 176.9217 , 176.35107, 171.10324, 158.59726,\n",
       "       158.88329, 160.70389, 163.22214, 164.3232 , 166.89156, 167.84427,\n",
       "       166.11438, 166.12753, 162.04   , 161.28748, 161.96327, 164.02444,\n",
       "       166.99718, 168.10971, 168.45526, 168.7481 , 167.38057, 169.60202],\n",
       "      dtype=float32)"
      ]
     },
     "execution_count": 28,
     "metadata": {},
     "output_type": "execute_result"
    }
   ],
   "source": [
    "bus_transport_prediction = np.squeeze(bus_transport_prediction)\n",
    "bus_transport_prediction"
   ]
  },
  {
   "cell_type": "code",
   "execution_count": 29,
   "id": "a2d3c173",
   "metadata": {},
   "outputs": [
    {
     "data": {
      "text/plain": [
       "array([[177.1935 ],\n",
       "       [177.9547 ],\n",
       "       [174.2617 ],\n",
       "       [175.61781],\n",
       "       [178.26735],\n",
       "       [176.85376],\n",
       "       [177.84593],\n",
       "       [173.07103],\n",
       "       [176.9217 ],\n",
       "       [176.35107],\n",
       "       [171.10324],\n",
       "       [158.59726],\n",
       "       [158.88329],\n",
       "       [160.70389],\n",
       "       [163.22214],\n",
       "       [164.3232 ],\n",
       "       [166.89156],\n",
       "       [167.84427],\n",
       "       [166.11438],\n",
       "       [166.12753],\n",
       "       [162.04   ],\n",
       "       [161.28748],\n",
       "       [161.96327],\n",
       "       [164.02444],\n",
       "       [166.99718],\n",
       "       [168.10971],\n",
       "       [168.45526],\n",
       "       [168.7481 ],\n",
       "       [167.38057],\n",
       "       [169.60202]], dtype=float32)"
      ]
     },
     "execution_count": 29,
     "metadata": {},
     "output_type": "execute_result"
    }
   ],
   "source": [
    "bus_transport_prediction = bus_transport_prediction.reshape(-1,1)\n",
    "bus_transport_prediction"
   ]
  },
  {
   "cell_type": "code",
   "execution_count": 32,
   "id": "2209e914",
   "metadata": {},
   "outputs": [
    {
     "data": {
      "image/png": "[encoded data removed]",
      "text/plain": [
       "<Figure size 432x288 with 1 Axes>"
      ]
     },
     "metadata": {
      "needs_background": "light"
     },
     "output_type": "display_data"
    }
   ],
   "source": [
    "#Graph the real stock prices against the model's prediction\n",
    "\n",
    "import matplotlib as plt\n",
    "from matplotlib import pyplot as plt\n",
    "plt.plot(bus_transport_prediction, label = 'Predicted Bus Transportation Graph', linewidth = 2)\n",
    "plt.plot(dataset_test, label = 'Real Bus Transportation Graph', linewidth = 2)\n",
    "plt.title(\"Numbar of Bus Prediction with LSTM's\")\n",
    "plt.xlabel('Dates')\n",
    "plt.ylabel('Total Number of Transporation by BUS(in millions)')\n",
    "plt.legend()\n",
    "plt.show()"
   ]
  },
  {
   "cell_type": "code",
   "execution_count": 8,
   "id": "04fe9bfa",
   "metadata": {
    "scrolled": true
   },
   "outputs": [
    {
     "name": "stdout",
     "output_type": "stream",
     "text": [
      "IQR Usage Rate by BUS: 24.149999999999977\n",
      "Previous shape: (151, 4)\n",
      "New Shape: (132, 4)\n"
     ]
    }
   ],
   "source": [
    "#IQR Usage Rate by BUS\n",
    "\n",
    "Q1 = np.percentile(df1['Bus'], 25, interpolation = 'midpoint')\n",
    "Q3 = np.percentile(df1['Bus'], 75, interpolation = 'midpoint')\n",
    "\n",
    "IQR =Q3-Q1\n",
    "print(\"IQR Usage Rate by BUS:\",IQR)\n",
    "print(\"Previous shape:\",df1.shape)\n",
    "#Upper bound\n",
    "upper = np.where(df1['Bus'] >= (Q3+1.5*IQR))\n",
    "#Lower Bound\n",
    "lower = np.where(df1['Bus'] <= (Q1-1.5*IQR))\n",
    "\n",
    "''' Removing the Outliers '''\n",
    "df1.drop(upper[0], inplace = True)\n",
    "df1.drop(lower[0], inplace = True)\n",
    "\n",
    "print(\"New Shape:\", df1.shape)"
   ]
  },
  {
   "cell_type": "code",
   "execution_count": 9,
   "id": "c01626cf",
   "metadata": {},
   "outputs": [
    {
     "name": "stdout",
     "output_type": "stream",
     "text": [
      "IQR Usage Rate by London Underground : 15.049999999999997\n",
      "Previous shape: (132, 4)\n",
      "New Shape: (131, 4)\n"
     ]
    }
   ],
   "source": [
    "#IQR London Underground (includes DLR up to Mar-17)\n",
    "\n",
    "Q1 = np.percentile(df1['Underground'], 25, interpolation = 'midpoint')\n",
    "Q3 = np.percentile(df1['Underground'], 75, interpolation = 'midpoint')\n",
    "\n",
    "IQR =Q3-Q1\n",
    "print(\"IQR Usage Rate by London Underground :\",IQR)\n",
    "print(\"Previous shape:\",df1.shape)\n",
    "#Upper bound\n",
    "upper = np.where(df1['Underground'] >= (Q3+1.5*IQR))\n",
    "#Lower Bound\n",
    "lower = np.where(df1['Underground'] <= (Q1-1.5*IQR))\n",
    "\n",
    "''' Removing the Outliers '''\n",
    "df1.drop(upper[0], inplace = True)\n",
    "df1.drop(lower[0], inplace = True)\n",
    "\n",
    "print(\"New Shape:\", df1.shape)"
   ]
  },
  {
   "cell_type": "code",
   "execution_count": 10,
   "id": "d01893c5",
   "metadata": {},
   "outputs": [
    {
     "name": "stdout",
     "output_type": "stream",
     "text": [
      "IQR Usage Rate by London DLR: 2.1000000000000005\n",
      "Previous shape: (131, 4)\n",
      "New Shape: (131, 4)\n"
     ]
    }
   ],
   "source": [
    "#IQR Crime Rate by London DLR\n",
    "\n",
    "Q1 = np.percentile(df1['DLR'], 25, interpolation = 'midpoint')\n",
    "Q3 = np.percentile(df1['DLR'], 75, interpolation = 'midpoint')\n",
    "\n",
    "IQR =Q3-Q1\n",
    "print(\"IQR Usage Rate by London DLR:\",IQR)\n",
    "print(\"Previous shape:\",df1.shape)\n",
    "#Upper bound\n",
    "upper = np.where(df1['DLR'] >= (Q3+1.5*IQR))\n",
    "#Lower Bound\n",
    "lower = np.where(df1['DLR'] <= (Q1-1.5*IQR))\n",
    "\n",
    "''' Removing the Outliers '''\n",
    "df1.drop(upper[0], inplace = True)\n",
    "df1.drop(lower[0], inplace = True)\n",
    "\n",
    "print(\"New Shape:\", df1.shape)"
   ]
  },
  {
   "cell_type": "code",
   "execution_count": 11,
   "id": "e8f22771",
   "metadata": {},
   "outputs": [
    {
     "name": "stdout",
     "output_type": "stream",
     "text": [
      "IQR Usage Rate by London Overground: 5.15\n",
      "Previous shape: (131, 4)\n",
      "New Shape: (124, 4)\n"
     ]
    }
   ],
   "source": [
    "#IQR Crime Rate by London overground\n",
    "\n",
    "Q1 = np.percentile(df1['Overground'], 25, interpolation = 'midpoint')\n",
    "Q3 = np.percentile(df1['Overground'], 75, interpolation = 'midpoint')\n",
    "\n",
    "IQR =Q3-Q1\n",
    "print(\"IQR Usage Rate by London Overground:\",IQR)\n",
    "print(\"Previous shape:\",df1.shape)\n",
    "#Upper bound\n",
    "upper = np.where(df1['Overground'] >= (Q3+1.5*IQR))\n",
    "#Lower Bound\n",
    "lower = np.where(df1['Overground'] <= (Q1-1.5*IQR))\n",
    "\n",
    "''' Removing the Outliers '''\n",
    "df1.drop(upper[0], inplace = True)\n",
    "df1.drop(lower[0], inplace = True)\n",
    "\n",
    "print(\"New Shape:\", df1.shape)"
   ]
  },
  {
   "cell_type": "code",
   "execution_count": 12,
   "id": "6090df88",
   "metadata": {},
   "outputs": [
    {
     "name": "stdout",
     "output_type": "stream",
     "text": [
      "Data =  [[ 7.32671697 16.41413839  2.57652251 10.3972852 ]]\n",
      "Normalized Data = [[0.35014535 0.78443513 0.12313255 0.49688845]]\n"
     ]
    }
   ],
   "source": [
    "#Normalize data\n",
    "\n",
    "from sklearn import preprocessing \n",
    "import numpy as np\n",
    "\n",
    "a = np.random.random((1,4))\n",
    "a = a*20\n",
    "print(\"Data = \", a)\n",
    "\n",
    "#Normalize the data attributes\n",
    "normalized = preprocessing.normalize(a)\n",
    "print(\"Normalized Data =\", normalized)"
   ]
  }
 ],
 "metadata": {
  "kernelspec": {
   "display_name": "Python 3",
   "language": "python",
   "name": "python3"
  },
  "language_info": {
   "codemirror_mode": {
    "name": "ipython",
    "version": 3
   },
   "file_extension": ".py",
   "mimetype": "text/x-python",
   "name": "python",
   "nbconvert_exporter": "python",
   "pygments_lexer": "ipython3",
   "version": "3.8.8"
  }
 },
 "nbformat": 4,
 "nbformat_minor": 5
}
