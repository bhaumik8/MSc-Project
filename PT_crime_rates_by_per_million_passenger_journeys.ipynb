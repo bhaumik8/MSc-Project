{
 "cells": [
  {
   "cell_type": "code",
   "execution_count": 18,
   "id": "93a8bcd1",
   "metadata": {},
   "outputs": [],
   "source": [
    "import numpy as np\n",
    "import pandas as pd\n",
    "import tensorflow as tf\n",
    "import keras\n",
    "import matplotlib as plt\n",
    "import seaborn as sns\n",
    "import math\n",
    "from sklearn.metrics import mean_squared_error\n",
    "from sklearn.preprocessing import MinMaxScaler\n",
    "from sklearn.model_selection import train_test_split\n",
    "from matplotlib import pyplot as plt\n",
    "from keras import layers\n",
    "from keras import models\n",
    "from keras.models import Sequential\n",
    "from keras.layers import Dense\n",
    "from keras.layers import Dropout\n",
    "from keras.layers import LSTM"
   ]
  },
  {
   "cell_type": "code",
   "execution_count": 10,
   "id": "af988f9e",
   "metadata": {},
   "outputs": [],
   "source": [
    "# Importing dataset using short_name as df3\n",
    "\n",
    "df3=pd.read_csv(\"E:/Data/use data/csv/PT_crime_rates_by_per_million_passenger_journeys.csv\")"
   ]
  },
  {
   "cell_type": "code",
   "execution_count": 11,
   "id": "f827c6c8",
   "metadata": {},
   "outputs": [
    {
     "data": {
      "text/html": [
       "<div>\n",
       "<style scoped>\n",
       "    .dataframe tbody tr th:only-of-type {\n",
       "        vertical-align: middle;\n",
       "    }\n",
       "\n",
       "    .dataframe tbody tr th {\n",
       "        vertical-align: top;\n",
       "    }\n",
       "\n",
       "    .dataframe thead th {\n",
       "        text-align: right;\n",
       "    }\n",
       "</style>\n",
       "<table border=\"1\" class=\"dataframe\">\n",
       "  <thead>\n",
       "    <tr style=\"text-align: right;\">\n",
       "      <th></th>\n",
       "      <th>Month</th>\n",
       "      <th>Bus</th>\n",
       "      <th>Underground</th>\n",
       "      <th>Tramlink</th>\n",
       "    </tr>\n",
       "  </thead>\n",
       "  <tbody>\n",
       "    <tr>\n",
       "      <th>0</th>\n",
       "      <td>04/09/22</td>\n",
       "      <td>11.3</td>\n",
       "      <td>13.3</td>\n",
       "      <td>17.4</td>\n",
       "    </tr>\n",
       "    <tr>\n",
       "      <th>1</th>\n",
       "      <td>05/09/22</td>\n",
       "      <td>11.1</td>\n",
       "      <td>14.6</td>\n",
       "      <td>18.1</td>\n",
       "    </tr>\n",
       "    <tr>\n",
       "      <th>2</th>\n",
       "      <td>06/09/22</td>\n",
       "      <td>11.1</td>\n",
       "      <td>13.1</td>\n",
       "      <td>17.4</td>\n",
       "    </tr>\n",
       "    <tr>\n",
       "      <th>3</th>\n",
       "      <td>07/09/22</td>\n",
       "      <td>11.2</td>\n",
       "      <td>12.5</td>\n",
       "      <td>16.3</td>\n",
       "    </tr>\n",
       "    <tr>\n",
       "      <th>4</th>\n",
       "      <td>08/09/22</td>\n",
       "      <td>9.7</td>\n",
       "      <td>13.2</td>\n",
       "      <td>17.4</td>\n",
       "    </tr>\n",
       "  </tbody>\n",
       "</table>\n",
       "</div>"
      ],
      "text/plain": [
       "      Month   Bus  Underground  Tramlink\n",
       "0  04/09/22  11.3         13.3      17.4\n",
       "1  05/09/22  11.1         14.6      18.1\n",
       "2  06/09/22  11.1         13.1      17.4\n",
       "3  07/09/22  11.2         12.5      16.3\n",
       "4  08/09/22   9.7         13.2      17.4"
      ]
     },
     "execution_count": 11,
     "metadata": {},
     "output_type": "execute_result"
    }
   ],
   "source": [
    "df3.head()"
   ]
  },
  {
   "cell_type": "code",
   "execution_count": 16,
   "id": "27058f2e",
   "metadata": {},
   "outputs": [
    {
     "data": {
      "text/plain": [
       "Month          0.0\n",
       "Bus            0.0\n",
       "Underground    0.0\n",
       "Tramlink       0.0\n",
       "dtype: float64"
      ]
     },
     "execution_count": 16,
     "metadata": {},
     "output_type": "execute_result"
    }
   ],
   "source": [
    "#Checking null values\n",
    "df3.isnull().sum()/len(df3)*100"
   ]
  },
  {
   "cell_type": "code",
   "execution_count": 13,
   "id": "0a8a2caa",
   "metadata": {},
   "outputs": [
    {
     "name": "stdout",
     "output_type": "stream",
     "text": [
      "<class 'pandas.core.frame.DataFrame'>\n",
      "RangeIndex: 132 entries, 0 to 131\n",
      "Data columns (total 4 columns):\n",
      " #   Column       Non-Null Count  Dtype  \n",
      "---  ------       --------------  -----  \n",
      " 0   Month        132 non-null    object \n",
      " 1   Bus          132 non-null    float64\n",
      " 2   Underground  132 non-null    float64\n",
      " 3   Tramlink     132 non-null    float64\n",
      "dtypes: float64(3), object(1)\n",
      "memory usage: 4.2+ KB\n"
     ]
    }
   ],
   "source": [
    "df3.info()"
   ]
  },
  {
   "cell_type": "code",
   "execution_count": 109,
   "id": "d2201358",
   "metadata": {},
   "outputs": [
    {
     "data": {
      "text/plain": [
       "<AxesSubplot:title={'center':'PT_crime_rates_by_per_million_passenger_journeys'}>"
      ]
     },
     "execution_count": 109,
     "metadata": {},
     "output_type": "execute_result"
    },
    {
     "data": {
      "image/png": "[encoded data removed]",
      "text/plain": [
       "<Figure size 432x288 with 3 Axes>"
      ]
     },
     "metadata": {
      "needs_background": "light"
     },
     "output_type": "display_data"
    },
    {
     "data": {
      "image/png": "[encoded data removed]",
      "text/plain": [
       "<Figure size 432x288 with 1 Axes>"
      ]
     },
     "metadata": {
      "needs_background": "light"
     },
     "output_type": "display_data"
    }
   ],
   "source": [
    "#Visualize the London_underground_average_monthly_temp\n",
    "df2.plot.line(subplots = True, title='PT_crime_rates_by_per_million_passenger_journeys')\n",
    "df2.plot(title='PT_crime_rates_by_per_million_passenger_journeys')"
   ]
  },
  {
   "cell_type": "code",
   "execution_count": 21,
   "id": "0da2c7c3",
   "metadata": {},
   "outputs": [
    {
     "name": "stderr",
     "output_type": "stream",
     "text": [
      "D:\\Programs\\Anaconda\\lib\\site-packages\\seaborn\\_decorators.py:36: FutureWarning: Pass the following variable as a keyword arg: x. From version 0.12, the only valid positional argument will be `data`, and passing other arguments without an explicit keyword will result in an error or misinterpretation.\n",
      "  warnings.warn(\n"
     ]
    },
    {
     "data": {
      "text/plain": [
       "<AxesSubplot:xlabel='Bus'>"
      ]
     },
     "execution_count": 21,
     "metadata": {},
     "output_type": "execute_result"
    },
    {
     "data": {
      "image/png": "[encoded data removed]",
      "text/plain": [
       "<Figure size 432x288 with 1 Axes>"
      ]
     },
     "metadata": {
      "needs_background": "light"
     },
     "output_type": "display_data"
    }
   ],
   "source": [
    "# Box Plot\n",
    "import seaborn as sns\n",
    "sns.boxplot(df3['Bus'])"
   ]
  },
  {
   "cell_type": "code",
   "execution_count": 22,
   "id": "242222ce",
   "metadata": {
    "scrolled": true
   },
   "outputs": [
    {
     "name": "stderr",
     "output_type": "stream",
     "text": [
      "D:\\Programs\\Anaconda\\lib\\site-packages\\seaborn\\_decorators.py:36: FutureWarning: Pass the following variable as a keyword arg: x. From version 0.12, the only valid positional argument will be `data`, and passing other arguments without an explicit keyword will result in an error or misinterpretation.\n",
      "  warnings.warn(\n"
     ]
    },
    {
     "data": {
      "text/plain": [
       "<AxesSubplot:xlabel='Underground'>"
      ]
     },
     "execution_count": 22,
     "metadata": {},
     "output_type": "execute_result"
    },
    {
     "data": {
      "image/png": "[encoded data removed]",
      "text/plain": [
       "<Figure size 432x288 with 1 Axes>"
      ]
     },
     "metadata": {
      "needs_background": "light"
     },
     "output_type": "display_data"
    }
   ],
   "source": [
    "sns.boxplot(df3['Underground'])"
   ]
  },
  {
   "cell_type": "code",
   "execution_count": 23,
   "id": "63ec4e5d",
   "metadata": {},
   "outputs": [
    {
     "name": "stderr",
     "output_type": "stream",
     "text": [
      "D:\\Programs\\Anaconda\\lib\\site-packages\\seaborn\\_decorators.py:36: FutureWarning: Pass the following variable as a keyword arg: x. From version 0.12, the only valid positional argument will be `data`, and passing other arguments without an explicit keyword will result in an error or misinterpretation.\n",
      "  warnings.warn(\n"
     ]
    },
    {
     "data": {
      "text/plain": [
       "<AxesSubplot:xlabel='Tramlink'>"
      ]
     },
     "execution_count": 23,
     "metadata": {},
     "output_type": "execute_result"
    },
    {
     "data": {
      "image/png": "[encoded data removed]",
      "text/plain": [
       "<Figure size 432x288 with 1 Axes>"
      ]
     },
     "metadata": {
      "needs_background": "light"
     },
     "output_type": "display_data"
    }
   ],
   "source": [
    "sns.boxplot(df3['Tramlink'])"
   ]
  },
  {
   "cell_type": "code",
   "execution_count": 24,
   "id": "3f6d8ea8",
   "metadata": {},
   "outputs": [
    {
     "name": "stdout",
     "output_type": "stream",
     "text": [
      "Data =  [[ 7.74850925  3.07612058  8.42736481 11.2515321 ]]\n",
      "Normalized Data =  [[0.4740951  0.18821346 0.5156311  0.68842871]]\n"
     ]
    }
   ],
   "source": [
    "#Data normalization\n",
    "from sklearn import preprocessing\n",
    "import numpy as np\n",
    "a = np.random.random((1, 4))\n",
    "a = a*20\n",
    "print(\"Data = \", a)\n",
    "# normalize the data attributes\n",
    "normalized = preprocessing.normalize(a)\n",
    "print(\"Normalized Data = \", normalized)"
   ]
  },
  {
   "cell_type": "code",
   "execution_count": 25,
   "id": "26314a0a",
   "metadata": {},
   "outputs": [],
   "source": [
    "import matplotlib.pyplot as plt\n",
    "%matplotlib inline"
   ]
  },
  {
   "cell_type": "code",
   "execution_count": 28,
   "id": "08d97319",
   "metadata": {},
   "outputs": [
    {
     "data": {
      "text/plain": [
       "<matplotlib.collections.PathCollection at 0x207ef1d7ca0>"
      ]
     },
     "execution_count": 28,
     "metadata": {},
     "output_type": "execute_result"
    },
    {
     "data": {
      "image/png": "[encoded data removed]",
      "text/plain": [
       "<Figure size 432x288 with 1 Axes>"
      ]
     },
     "metadata": {
      "needs_background": "light"
     },
     "output_type": "display_data"
    }
   ],
   "source": [
    "#visualise crime rates by passenger of Bus\n",
    "plt.scatter(df3['Month'],df3['Bus'])"
   ]
  },
  {
   "cell_type": "code",
   "execution_count": 33,
   "id": "d1b84240",
   "metadata": {},
   "outputs": [
    {
     "data": {
      "text/plain": [
       "<matplotlib.collections.PathCollection at 0x207f0636eb0>"
      ]
     },
     "execution_count": 33,
     "metadata": {},
     "output_type": "execute_result"
    },
    {
     "data": {
      "image/png": "[encoded data removed]",
      "text/plain": [
       "<Figure size 432x288 with 1 Axes>"
      ]
     },
     "metadata": {
      "needs_background": "light"
     },
     "output_type": "display_data"
    }
   ],
   "source": [
    "#visualise crime rates by passenger of Underground\n",
    "plt.scatter(df3['Month'],df3['Underground'])"
   ]
  },
  {
   "cell_type": "code",
   "execution_count": 34,
   "id": "704b9fb0",
   "metadata": {},
   "outputs": [
    {
     "data": {
      "text/plain": [
       "<matplotlib.collections.PathCollection at 0x207f07a43a0>"
      ]
     },
     "execution_count": 34,
     "metadata": {},
     "output_type": "execute_result"
    },
    {
     "data": {
      "image/png": "[encoded data removed]",
      "text/plain": [
       "<Figure size 432x288 with 1 Axes>"
      ]
     },
     "metadata": {
      "needs_background": "light"
     },
     "output_type": "display_data"
    }
   ],
   "source": [
    "#visualise crime rates by passenger of Tramlink\n",
    "plt.scatter(df3['Month'],df3['Tramlink'])"
   ]
  },
  {
   "cell_type": "code",
   "execution_count": 90,
   "id": "6e5d3373",
   "metadata": {},
   "outputs": [],
   "source": [
    "#split dataset in features and target variable\n",
    "x = df3[['Bus','Underground','Tramlink']]\n",
    "y = df3[['Month']]"
   ]
  },
  {
   "cell_type": "code",
   "execution_count": 91,
   "id": "4bf4dd0c",
   "metadata": {},
   "outputs": [],
   "source": [
    "# split the dataset into training and testing sets\n",
    "from sklearn.model_selection import train_test_split\n",
    "x_train,x_test,y_train,y_test=train_test_split(x,y,test_size=0.26,random_state=42)"
   ]
  },
  {
   "cell_type": "code",
   "execution_count": 92,
   "id": "6a834054",
   "metadata": {},
   "outputs": [],
   "source": [
    "# feature scaling\n",
    "from sklearn.preprocessing import StandardScaler\n",
    "st_x= StandardScaler()\n",
    "x_train= st_x.fit_transform(x_train)\n",
    "x_test= st_x.transform(x_test)"
   ]
  },
  {
   "cell_type": "code",
   "execution_count": 93,
   "id": "0105b455",
   "metadata": {},
   "outputs": [
    {
     "data": {
      "text/html": [
       "<div>\n",
       "<style scoped>\n",
       "    .dataframe tbody tr th:only-of-type {\n",
       "        vertical-align: middle;\n",
       "    }\n",
       "\n",
       "    .dataframe tbody tr th {\n",
       "        vertical-align: top;\n",
       "    }\n",
       "\n",
       "    .dataframe thead th {\n",
       "        text-align: right;\n",
       "    }\n",
       "</style>\n",
       "<table border=\"1\" class=\"dataframe\">\n",
       "  <thead>\n",
       "    <tr style=\"text-align: right;\">\n",
       "      <th></th>\n",
       "      <th>Bus</th>\n",
       "      <th>Underground</th>\n",
       "      <th>Tramlink</th>\n",
       "    </tr>\n",
       "  </thead>\n",
       "  <tbody>\n",
       "    <tr>\n",
       "      <th>0</th>\n",
       "      <td>11.3</td>\n",
       "      <td>13.3</td>\n",
       "      <td>17.4</td>\n",
       "    </tr>\n",
       "    <tr>\n",
       "      <th>1</th>\n",
       "      <td>11.1</td>\n",
       "      <td>14.6</td>\n",
       "      <td>18.1</td>\n",
       "    </tr>\n",
       "    <tr>\n",
       "      <th>2</th>\n",
       "      <td>11.1</td>\n",
       "      <td>13.1</td>\n",
       "      <td>17.4</td>\n",
       "    </tr>\n",
       "    <tr>\n",
       "      <th>3</th>\n",
       "      <td>11.2</td>\n",
       "      <td>12.5</td>\n",
       "      <td>16.3</td>\n",
       "    </tr>\n",
       "    <tr>\n",
       "      <th>4</th>\n",
       "      <td>9.7</td>\n",
       "      <td>13.2</td>\n",
       "      <td>17.4</td>\n",
       "    </tr>\n",
       "    <tr>\n",
       "      <th>...</th>\n",
       "      <td>...</td>\n",
       "      <td>...</td>\n",
       "      <td>...</td>\n",
       "    </tr>\n",
       "    <tr>\n",
       "      <th>127</th>\n",
       "      <td>8.0</td>\n",
       "      <td>15.9</td>\n",
       "      <td>14.6</td>\n",
       "    </tr>\n",
       "    <tr>\n",
       "      <th>128</th>\n",
       "      <td>7.6</td>\n",
       "      <td>23.5</td>\n",
       "      <td>8.9</td>\n",
       "    </tr>\n",
       "    <tr>\n",
       "      <th>129</th>\n",
       "      <td>7.9</td>\n",
       "      <td>17.6</td>\n",
       "      <td>7.7</td>\n",
       "    </tr>\n",
       "    <tr>\n",
       "      <th>130</th>\n",
       "      <td>8.3</td>\n",
       "      <td>16.8</td>\n",
       "      <td>11.9</td>\n",
       "    </tr>\n",
       "    <tr>\n",
       "      <th>131</th>\n",
       "      <td>9.5</td>\n",
       "      <td>21.3</td>\n",
       "      <td>9.9</td>\n",
       "    </tr>\n",
       "  </tbody>\n",
       "</table>\n",
       "<p>132 rows × 3 columns</p>\n",
       "</div>"
      ],
      "text/plain": [
       "      Bus  Underground  Tramlink\n",
       "0    11.3         13.3      17.4\n",
       "1    11.1         14.6      18.1\n",
       "2    11.1         13.1      17.4\n",
       "3    11.2         12.5      16.3\n",
       "4     9.7         13.2      17.4\n",
       "..    ...          ...       ...\n",
       "127   8.0         15.9      14.6\n",
       "128   7.6         23.5       8.9\n",
       "129   7.9         17.6       7.7\n",
       "130   8.3         16.8      11.9\n",
       "131   9.5         21.3       9.9\n",
       "\n",
       "[132 rows x 3 columns]"
      ]
     },
     "execution_count": 93,
     "metadata": {},
     "output_type": "execute_result"
    }
   ],
   "source": [
    "x"
   ]
  },
  {
   "cell_type": "code",
   "execution_count": 94,
   "id": "32aeb516",
   "metadata": {},
   "outputs": [
    {
     "data": {
      "text/html": [
       "<div>\n",
       "<style scoped>\n",
       "    .dataframe tbody tr th:only-of-type {\n",
       "        vertical-align: middle;\n",
       "    }\n",
       "\n",
       "    .dataframe tbody tr th {\n",
       "        vertical-align: top;\n",
       "    }\n",
       "\n",
       "    .dataframe thead th {\n",
       "        text-align: right;\n",
       "    }\n",
       "</style>\n",
       "<table border=\"1\" class=\"dataframe\">\n",
       "  <thead>\n",
       "    <tr style=\"text-align: right;\">\n",
       "      <th></th>\n",
       "      <th>Month</th>\n",
       "    </tr>\n",
       "  </thead>\n",
       "  <tbody>\n",
       "    <tr>\n",
       "      <th>0</th>\n",
       "      <td>04/09/22</td>\n",
       "    </tr>\n",
       "    <tr>\n",
       "      <th>1</th>\n",
       "      <td>05/09/22</td>\n",
       "    </tr>\n",
       "    <tr>\n",
       "      <th>2</th>\n",
       "      <td>06/09/22</td>\n",
       "    </tr>\n",
       "    <tr>\n",
       "      <th>3</th>\n",
       "      <td>07/09/22</td>\n",
       "    </tr>\n",
       "    <tr>\n",
       "      <th>4</th>\n",
       "      <td>08/09/22</td>\n",
       "    </tr>\n",
       "    <tr>\n",
       "      <th>...</th>\n",
       "      <td>...</td>\n",
       "    </tr>\n",
       "    <tr>\n",
       "      <th>127</th>\n",
       "      <td>11/19/22</td>\n",
       "    </tr>\n",
       "    <tr>\n",
       "      <th>128</th>\n",
       "      <td>12/19/22</td>\n",
       "    </tr>\n",
       "    <tr>\n",
       "      <th>129</th>\n",
       "      <td>01/20/22</td>\n",
       "    </tr>\n",
       "    <tr>\n",
       "      <th>130</th>\n",
       "      <td>02/20/22</td>\n",
       "    </tr>\n",
       "    <tr>\n",
       "      <th>131</th>\n",
       "      <td>03/20/22</td>\n",
       "    </tr>\n",
       "  </tbody>\n",
       "</table>\n",
       "<p>132 rows × 1 columns</p>\n",
       "</div>"
      ],
      "text/plain": [
       "        Month\n",
       "0    04/09/22\n",
       "1    05/09/22\n",
       "2    06/09/22\n",
       "3    07/09/22\n",
       "4    08/09/22\n",
       "..        ...\n",
       "127  11/19/22\n",
       "128  12/19/22\n",
       "129  01/20/22\n",
       "130  02/20/22\n",
       "131  03/20/22\n",
       "\n",
       "[132 rows x 1 columns]"
      ]
     },
     "execution_count": 94,
     "metadata": {},
     "output_type": "execute_result"
    }
   ],
   "source": [
    "y"
   ]
  },
  {
   "cell_type": "code",
   "execution_count": 95,
   "id": "e451af35",
   "metadata": {},
   "outputs": [
    {
     "data": {
      "text/plain": [
       "97"
      ]
     },
     "execution_count": 95,
     "metadata": {},
     "output_type": "execute_result"
    }
   ],
   "source": [
    "len(x_train)"
   ]
  },
  {
   "cell_type": "code",
   "execution_count": 96,
   "id": "d553bbe9",
   "metadata": {},
   "outputs": [
    {
     "data": {
      "text/plain": [
       "35"
      ]
     },
     "execution_count": 96,
     "metadata": {},
     "output_type": "execute_result"
    }
   ],
   "source": [
    "len(x_test)"
   ]
  },
  {
   "cell_type": "code",
   "execution_count": 97,
   "id": "612b5f84",
   "metadata": {},
   "outputs": [
    {
     "data": {
      "text/plain": [
       "array([[-0.88791349,  0.06390432, -0.64833843],\n",
       "       [-0.23045083, -0.54521834,  0.65535065],\n",
       "       [ 1.96109136,  0.49387325,  0.93876132],\n",
       "       [-0.44960505, -1.19017174, -0.59165629],\n",
       "       [-0.15739942, -0.86769504, -1.0167723 ],\n",
       "       [ 2.10719418,  0.70885772,  0.06018825],\n",
       "       [ 0.0617548 ,  0.13556581,  0.42862212],\n",
       "       [-0.59570786, -1.11851025, -0.87506696],\n",
       "       [-0.66875927, -1.154341  , -1.6119347 ],\n",
       "       [ 0.64616605, -0.25857238, -0.42160989],\n",
       "       [ 0.0617548 ,  1.74794931,  0.71203278],\n",
       "       [-0.37655364, -1.01101802,  0.08852931],\n",
       "       [ 1.74193714,  1.24631889,  0.03184718],\n",
       "       [ 0.64616605, -0.29440313, -0.7617027 ],\n",
       "       [-0.59570786, -1.19017174, -0.59165629],\n",
       "       [ 1.30362871,  0.60136549,  1.42055946],\n",
       "       [-0.81486208, -0.36606462,  0.34359891],\n",
       "       [ 0.35396042,  0.06390432,  1.78899333],\n",
       "       [-0.66875927, -0.76020281,  0.82539705],\n",
       "       [-1.18011911, -0.61687983, -0.81838483],\n",
       "       [-0.44960505, -0.8318643 , -0.56331523],\n",
       "       [ 1.01142308,  1.21048814,  1.39221839],\n",
       "       [-0.23045083, -1.154341  , -0.42160989],\n",
       "       [-0.08434802,  1.96293378, -0.98843123],\n",
       "       [ 0.64616605,  0.09973506,  0.88207919],\n",
       "       [-0.30350223, -0.65271057,  0.93876132],\n",
       "       [ 0.86532027, -0.25857238,  0.91042025],\n",
       "       [ 1.74193714,  0.42221176,  1.13714879],\n",
       "       [-0.96096489, -1.26183323, -0.8467259 ],\n",
       "       [ 0.50006324, -0.07941866, -0.50663309],\n",
       "       [-0.30350223,  0.74468846, -0.16654029],\n",
       "       [ 2.47245121,  1.1746574 ,  2.18576826],\n",
       "       [ 0.57311464,  0.45804251,  0.45696318],\n",
       "       [-0.81486208, -1.11851025,  0.54198638],\n",
       "       [-1.25317052,  0.2072273 , -0.16654029],\n",
       "       [-1.0340163 ,  0.06390432, -0.08151709],\n",
       "       [ 1.96109136,  0.67302697,  3.20604667],\n",
       "       [ 1.30362871,  0.63719623,  1.61894693],\n",
       "       [ 0.0617548 ,  2.39290271,  0.45696318],\n",
       "       [ 2.18024558,  0.8521807 ,  1.70397013],\n",
       "       [ 1.08447449,  0.24305804, -0.08151709],\n",
       "       [ 0.42701183, -0.00775717,  1.25051306],\n",
       "       [-0.74181067, -1.154341  , -0.27990456],\n",
       "       [-0.88791349,  1.06716516, -1.1017955 ],\n",
       "       [ 2.03414277,  1.10299591,  0.62700958],\n",
       "       [-0.81486208, -1.33349472, -0.42160989],\n",
       "       [-1.47232474, -0.04358792, -1.32852403],\n",
       "       [-0.81486208,  0.63719623, -0.56331523],\n",
       "       [-0.23045083, -0.93935653,  0.42862212],\n",
       "       [-0.30350223, -0.54521834,  0.28691678],\n",
       "       [-1.39927333, -0.07941866, -0.02483496],\n",
       "       [ 0.35396042, -0.11524941, -0.33658669],\n",
       "       [-0.88791349, -0.79603355, -0.27990456],\n",
       "       [-1.18011911, -1.29766397, -1.38520617],\n",
       "       [-0.23045083,  2.67954867, -0.73336163],\n",
       "       [ 0.0617548 , -0.68854132,  0.03184718],\n",
       "       [-0.44960505,  0.27888878, -0.56331523],\n",
       "       [-0.66875927, -0.15108015, -0.67667949],\n",
       "       [-0.66875927, -0.72437206, -0.64833843],\n",
       "       [-0.74181067, -0.65271057, -0.33658669],\n",
       "       [-0.44960505, -1.01101802, -0.59165629],\n",
       "       [-0.01129661, -0.33023387,  1.64728799],\n",
       "       [ 0.0617548 , -0.50938759, -1.24350083],\n",
       "       [-1.47232474,  0.06390432, -1.13013657],\n",
       "       [-0.96096489, -0.54521834, -0.64833843],\n",
       "       [-0.44960505, -1.19017174, -1.04511336],\n",
       "       [ 0.64616605, -0.36606462,  1.05212559],\n",
       "       [-0.81486208,  0.67302697, -0.19488136],\n",
       "       [-1.0340163 , -0.86769504, -1.72529897],\n",
       "       [-1.0340163 , -1.11851025, -0.87506696],\n",
       "       [-1.54537614,  0.02807357, -1.24350083],\n",
       "       [ 0.20785761, -0.07941866,  2.04406293],\n",
       "       [-0.15739942, -0.47355685,  0.03184718],\n",
       "       [-0.96096489,  0.38638102, -0.7617027 ],\n",
       "       [-0.15739942,  1.21048814, -1.3568651 ],\n",
       "       [ 2.10719418,  1.60462633,  2.21410933],\n",
       "       [ 0.28090902, -0.36606462,  0.71203278],\n",
       "       [ 1.81498855,  0.60136549,  0.76871492],\n",
       "       [ 2.10719418,  1.06716516,  2.01572186],\n",
       "       [ 1.44973152,  0.56553474,  0.40028105],\n",
       "       [-0.30350223,  0.06390432, -1.07345443],\n",
       "       [-0.08434802, -0.25857238,  0.14521145],\n",
       "       [-0.66875927,  2.10625676,  0.91042025],\n",
       "       [-0.23045083, -1.08267951, -1.38520617],\n",
       "       [-0.15739942,  1.74794931, -0.44995096],\n",
       "       [-0.66875927, -1.19017174, -0.10985816],\n",
       "       [-0.08434802, -1.08267951, -0.16654029],\n",
       "       [-0.37655364, -0.97518727, -0.90340803],\n",
       "       [-0.59570786,  0.81634995, -0.64833843],\n",
       "       [ 0.93837167,  4.00528622, -0.10985816],\n",
       "       [ 1.52278293,  0.06390432, -1.15847763],\n",
       "       [-1.0340163 , -1.11851025, -1.32852403],\n",
       "       [-0.37655364, -1.08267951,  0.14521145],\n",
       "       [-0.74181067,  0.35055027, -1.13013657],\n",
       "       [ 1.74193714,  0.2072273 ,  1.19383092],\n",
       "       [-0.30350223, -0.58104908, -0.36492776],\n",
       "       [-0.81486208, -0.04358792,  0.85373812]])"
      ]
     },
     "execution_count": 97,
     "metadata": {},
     "output_type": "execute_result"
    }
   ],
   "source": [
    "x_train"
   ]
  },
  {
   "cell_type": "code",
   "execution_count": 98,
   "id": "d08f2c21",
   "metadata": {},
   "outputs": [
    {
     "data": {
      "text/plain": [
       "array([[-0.81486208, -0.86769504, -0.53497416],\n",
       "       [-0.74181067, -0.40189536,  0.93876132],\n",
       "       [ 1.66888574,  0.78051921,  2.72424854],\n",
       "       [ 1.01142308, -0.40189536,  0.06018825],\n",
       "       [-0.23045083, -0.90352578, -0.98843123],\n",
       "       [-0.74181067,  1.1746574 , -0.56331523],\n",
       "       [-0.66875927, -1.08267951, -0.98843123],\n",
       "       [-0.44960505,  4.7935626 , -0.39326883],\n",
       "       [-1.18011911, -1.154341  , -1.98036857],\n",
       "       [ 1.15752589,  0.42221176,  1.02378452],\n",
       "       [ 0.93837167, -0.04358792,  0.74037385],\n",
       "       [ 1.01142308,  0.24305804,  1.50558266],\n",
       "       [-0.01129661,  0.31471953, -0.39326883],\n",
       "       [ 1.08447449,  1.10299591,  2.01572186],\n",
       "       [-0.74181067, -0.40189536, -0.16654029],\n",
       "       [-1.25317052, -0.40189536, -0.33658669],\n",
       "       [ 0.50006324, -0.36606462, -0.56331523],\n",
       "       [-0.52265645, -0.33023387,  1.19383092],\n",
       "       [ 0.35396042, -0.79603355,  0.57032745],\n",
       "       [-0.96096489, -1.01101802, -1.41354723],\n",
       "       [ 1.66888574,  0.81634995,  0.34359891],\n",
       "       [ 2.76465683,  1.06716516,  1.05212559],\n",
       "       [ 0.28090902, -0.11524941,  0.68369172],\n",
       "       [ 2.76465683,  0.8521807 ,  0.08852931],\n",
       "       [-1.54537614, -0.00775717,  0.11687038],\n",
       "       [-0.59570786, -1.19017174, -2.09373284],\n",
       "       [-0.15739942,  2.07042601,  1.22217199],\n",
       "       [-0.37655364, -0.58104908, -0.02483496],\n",
       "       [-1.18011911, -0.22274164, -0.44995096],\n",
       "       [ 2.25329699,  1.13882665,  2.01572186],\n",
       "       [ 1.81498855,  0.67302697,  1.81733439],\n",
       "       [ 0.50006324,  1.31798038, -0.64833843],\n",
       "       [-0.44960505, -1.36932546, -0.36492776],\n",
       "       [ 1.08447449, -0.04358792,  3.26272881],\n",
       "       [ 0.0617548 , -0.68854132, -0.42160989]])"
      ]
     },
     "execution_count": 98,
     "metadata": {},
     "output_type": "execute_result"
    }
   ],
   "source": [
    "x_test"
   ]
  },
  {
   "cell_type": "code",
   "execution_count": 108,
   "id": "1dac5327",
   "metadata": {},
   "outputs": [
    {
     "data": {
      "text/html": [
       "<div>\n",
       "<style scoped>\n",
       "    .dataframe tbody tr th:only-of-type {\n",
       "        vertical-align: middle;\n",
       "    }\n",
       "\n",
       "    .dataframe tbody tr th {\n",
       "        vertical-align: top;\n",
       "    }\n",
       "\n",
       "    .dataframe thead th {\n",
       "        text-align: right;\n",
       "    }\n",
       "</style>\n",
       "<table border=\"1\" class=\"dataframe\">\n",
       "  <thead>\n",
       "    <tr style=\"text-align: right;\">\n",
       "      <th></th>\n",
       "      <th>Month</th>\n",
       "    </tr>\n",
       "  </thead>\n",
       "  <tbody>\n",
       "    <tr>\n",
       "      <th>56</th>\n",
       "      <td>12/13/22</td>\n",
       "    </tr>\n",
       "    <tr>\n",
       "      <th>83</th>\n",
       "      <td>03/16/22</td>\n",
       "    </tr>\n",
       "    <tr>\n",
       "      <th>19</th>\n",
       "      <td>11/10/22</td>\n",
       "    </tr>\n",
       "    <tr>\n",
       "      <th>31</th>\n",
       "      <td>11/11/22</td>\n",
       "    </tr>\n",
       "    <tr>\n",
       "      <th>76</th>\n",
       "      <td>08/15/22</td>\n",
       "    </tr>\n",
       "    <tr>\n",
       "      <th>117</th>\n",
       "      <td>01/19/22</td>\n",
       "    </tr>\n",
       "    <tr>\n",
       "      <th>55</th>\n",
       "      <td>11/13/22</td>\n",
       "    </tr>\n",
       "    <tr>\n",
       "      <th>128</th>\n",
       "      <td>12/19/22</td>\n",
       "    </tr>\n",
       "    <tr>\n",
       "      <th>64</th>\n",
       "      <td>08/14/22</td>\n",
       "    </tr>\n",
       "    <tr>\n",
       "      <th>26</th>\n",
       "      <td>06/11/22</td>\n",
       "    </tr>\n",
       "    <tr>\n",
       "      <th>44</th>\n",
       "      <td>12/12/22</td>\n",
       "    </tr>\n",
       "    <tr>\n",
       "      <th>27</th>\n",
       "      <td>07/11/22</td>\n",
       "    </tr>\n",
       "    <tr>\n",
       "      <th>47</th>\n",
       "      <td>03/13/22</td>\n",
       "    </tr>\n",
       "    <tr>\n",
       "      <th>4</th>\n",
       "      <td>08/09/22</td>\n",
       "    </tr>\n",
       "    <tr>\n",
       "      <th>98</th>\n",
       "      <td>06/17/22</td>\n",
       "    </tr>\n",
       "    <tr>\n",
       "      <th>101</th>\n",
       "      <td>09/17/22</td>\n",
       "    </tr>\n",
       "    <tr>\n",
       "      <th>36</th>\n",
       "      <td>04/12/22</td>\n",
       "    </tr>\n",
       "    <tr>\n",
       "      <th>81</th>\n",
       "      <td>01/16/22</td>\n",
       "    </tr>\n",
       "    <tr>\n",
       "      <th>40</th>\n",
       "      <td>08/12/22</td>\n",
       "    </tr>\n",
       "    <tr>\n",
       "      <th>62</th>\n",
       "      <td>06/14/22</td>\n",
       "    </tr>\n",
       "    <tr>\n",
       "      <th>18</th>\n",
       "      <td>10/10/22</td>\n",
       "    </tr>\n",
       "    <tr>\n",
       "      <th>10</th>\n",
       "      <td>02/10/22</td>\n",
       "    </tr>\n",
       "    <tr>\n",
       "      <th>42</th>\n",
       "      <td>10/12/22</td>\n",
       "    </tr>\n",
       "    <tr>\n",
       "      <th>11</th>\n",
       "      <td>03/10/22</td>\n",
       "    </tr>\n",
       "    <tr>\n",
       "      <th>108</th>\n",
       "      <td>04/18/22</td>\n",
       "    </tr>\n",
       "    <tr>\n",
       "      <th>65</th>\n",
       "      <td>09/14/22</td>\n",
       "    </tr>\n",
       "    <tr>\n",
       "      <th>127</th>\n",
       "      <td>11/19/22</td>\n",
       "    </tr>\n",
       "    <tr>\n",
       "      <th>95</th>\n",
       "      <td>03/17/22</td>\n",
       "    </tr>\n",
       "    <tr>\n",
       "      <th>96</th>\n",
       "      <td>04/17/22</td>\n",
       "    </tr>\n",
       "    <tr>\n",
       "      <th>0</th>\n",
       "      <td>04/09/22</td>\n",
       "    </tr>\n",
       "    <tr>\n",
       "      <th>12</th>\n",
       "      <td>04/10/22</td>\n",
       "    </tr>\n",
       "    <tr>\n",
       "      <th>126</th>\n",
       "      <td>10/19/22</td>\n",
       "    </tr>\n",
       "    <tr>\n",
       "      <th>70</th>\n",
       "      <td>02/15/22</td>\n",
       "    </tr>\n",
       "    <tr>\n",
       "      <th>24</th>\n",
       "      <td>04/11/22</td>\n",
       "    </tr>\n",
       "    <tr>\n",
       "      <th>80</th>\n",
       "      <td>12/15/22</td>\n",
       "    </tr>\n",
       "  </tbody>\n",
       "</table>\n",
       "</div>"
      ],
      "text/plain": [
       "        Month\n",
       "56   12/13/22\n",
       "83   03/16/22\n",
       "19   11/10/22\n",
       "31   11/11/22\n",
       "76   08/15/22\n",
       "117  01/19/22\n",
       "55   11/13/22\n",
       "128  12/19/22\n",
       "64   08/14/22\n",
       "26   06/11/22\n",
       "44   12/12/22\n",
       "27   07/11/22\n",
       "47   03/13/22\n",
       "4    08/09/22\n",
       "98   06/17/22\n",
       "101  09/17/22\n",
       "36   04/12/22\n",
       "81   01/16/22\n",
       "40   08/12/22\n",
       "62   06/14/22\n",
       "18   10/10/22\n",
       "10   02/10/22\n",
       "42   10/12/22\n",
       "11   03/10/22\n",
       "108  04/18/22\n",
       "65   09/14/22\n",
       "127  11/19/22\n",
       "95   03/17/22\n",
       "96   04/17/22\n",
       "0    04/09/22\n",
       "12   04/10/22\n",
       "126  10/19/22\n",
       "70   02/15/22\n",
       "24   04/11/22\n",
       "80   12/15/22"
      ]
     },
     "execution_count": 108,
     "metadata": {},
     "output_type": "execute_result"
    }
   ],
   "source": [
    "y_test"
   ]
  },
  {
   "cell_type": "code",
   "execution_count": 99,
   "id": "3a945f51",
   "metadata": {},
   "outputs": [
    {
     "name": "stdout",
     "output_type": "stream",
     "text": [
      "KNeighborsClassifier score:  0.0\n",
      "KNeighborsClassifier accuracy: 0.00\n"
     ]
    },
    {
     "name": "stderr",
     "output_type": "stream",
     "text": [
      "D:\\Programs\\Anaconda\\lib\\site-packages\\sklearn\\neighbors\\_classification.py:179: DataConversionWarning: A column-vector y was passed when a 1d array was expected. Please change the shape of y to (n_samples,), for example using ravel().\n",
      "  return self._fit(X, y)\n"
     ]
    }
   ],
   "source": [
    "# import the class\n",
    "from sklearn.neighbors import KNeighborsClassifier\n",
    "from sklearn.metrics import accuracy_score\n",
    "# instantiate the model (using the default parameters)\n",
    "KNN = KNeighborsClassifier()\n",
    "KNN.fit(x_train, y_train)\n",
    "y_pred=KNN.predict(x_test)\n",
    "print(\"KNeighborsClassifier score: \",KNN.score(x_test, y_test))\n",
    "# evaluate accuracy\n",
    "print(\"KNeighborsClassifier accuracy: {:.2f}\".format(accuracy_score(y_test, y_pred)))"
   ]
  },
  {
   "cell_type": "code",
   "execution_count": 100,
   "id": "249f629e",
   "metadata": {},
   "outputs": [
    {
     "name": "stderr",
     "output_type": "stream",
     "text": [
      "<ipython-input-100-e1a9155ff6d8>:6: DataConversionWarning: A column-vector y was passed when a 1d array was expected. Please change the shape of y to (n_samples,), for example using ravel().\n",
      "  RF.fit(x_train, y_train)\n"
     ]
    },
    {
     "name": "stdout",
     "output_type": "stream",
     "text": [
      "RandomForestClassifier score:  0.0\n",
      "RandomForestClassifier accuracy: 0.00\n"
     ]
    }
   ],
   "source": [
    "# import the class\n",
    "from sklearn.ensemble import RandomForestClassifier\n",
    "from sklearn.metrics import accuracy_score\n",
    "# instantiate the model (using the default parameters)\n",
    "RF = RandomForestClassifier()\n",
    "RF.fit(x_train, y_train)\n",
    "y_pred=RF.predict(x_test)\n",
    "print(\"RandomForestClassifier score: \",RF.score(x_test, y_test))\n",
    "# evaluate accuracy\n",
    "print(\"RandomForestClassifier accuracy: {:.2f}\".format(accuracy_score(y_test, y_pred)))"
   ]
  },
  {
   "cell_type": "code",
   "execution_count": 101,
   "id": "bc8128d6",
   "metadata": {},
   "outputs": [
    {
     "name": "stdout",
     "output_type": "stream",
     "text": [
      "LogisticRegression Classifier score:  0.0\n",
      "LogisticRegression Classifier accuracy: 0.00\n"
     ]
    },
    {
     "name": "stderr",
     "output_type": "stream",
     "text": [
      "D:\\Programs\\Anaconda\\lib\\site-packages\\sklearn\\utils\\validation.py:63: DataConversionWarning: A column-vector y was passed when a 1d array was expected. Please change the shape of y to (n_samples, ), for example using ravel().\n",
      "  return f(*args, **kwargs)\n"
     ]
    }
   ],
   "source": [
    "# import the class\n",
    "from sklearn.linear_model import LogisticRegression\n",
    "from sklearn.metrics import accuracy_score\n",
    "# instantiate the model (using the default parameters)\n",
    "LR = LogisticRegression()\n",
    "LR.fit(x_train, y_train)\n",
    "y_pred=LR.predict(x_test)\n",
    "print(\"LogisticRegression Classifier score: \",LR.score(x_test, y_test))\n",
    "# evaluate accuracy\n",
    "print(\"LogisticRegression Classifier accuracy: {:.2f}\".format(accuracy_score(y_test, y_pred)))"
   ]
  },
  {
   "cell_type": "code",
   "execution_count": 103,
   "id": "a3426705",
   "metadata": {},
   "outputs": [
    {
     "name": "stdout",
     "output_type": "stream",
     "text": [
      "Naive Bayes score:  0.0\n",
      "Naive Bayes Classifier accuracy: 0.00\n"
     ]
    },
    {
     "name": "stderr",
     "output_type": "stream",
     "text": [
      "D:\\Programs\\Anaconda\\lib\\site-packages\\sklearn\\utils\\validation.py:63: DataConversionWarning: A column-vector y was passed when a 1d array was expected. Please change the shape of y to (n_samples, ), for example using ravel().\n",
      "  return f(*args, **kwargs)\n"
     ]
    }
   ],
   "source": [
    "#import the class\n",
    "from sklearn.naive_bayes import GaussianNB\n",
    "from sklearn.metrics import accuracy_score\n",
    "# instantiate the model (using the default parameters)\n",
    "NB = GaussianNB()\n",
    "NB.fit(x_train, y_train)\n",
    "y_pred=NB.predict(x_test)\n",
    "print(\"Naive Bayes score: \",NB.score(x_test, y_test))\n",
    "# evaluate accuracy\n",
    "print(\"Naive Bayes Classifier accuracy: {:.2f}\".format(accuracy_score(y_test, y_pred)))"
   ]
  },
  {
   "cell_type": "code",
   "execution_count": 104,
   "id": "3dbbc2f2",
   "metadata": {},
   "outputs": [
    {
     "name": "stdout",
     "output_type": "stream",
     "text": [
      "Support Vector Machines score:  0.0\n",
      "Support Vector Machines accuracy: 0.00\n"
     ]
    },
    {
     "name": "stderr",
     "output_type": "stream",
     "text": [
      "D:\\Programs\\Anaconda\\lib\\site-packages\\sklearn\\utils\\validation.py:63: DataConversionWarning: A column-vector y was passed when a 1d array was expected. Please change the shape of y to (n_samples, ), for example using ravel().\n",
      "  return f(*args, **kwargs)\n"
     ]
    }
   ],
   "source": [
    "#import the class\n",
    "from sklearn.svm import SVC\n",
    "from sklearn.metrics import accuracy_score\n",
    "SVM = SVC(kernel='poly', degree=8)\n",
    "SVM.fit(x_train, y_train)\n",
    "y_pred = SVM.predict(x_test)\n",
    "print(\"Support Vector Machines score: \",SVM.score(x_test, y_test))\n",
    "# evaluate accuracy\n",
    "print(\"Support Vector Machines accuracy: {:.2f}\".format(accuracy_score(y_test, y_pred)))"
   ]
  },
  {
   "cell_type": "code",
   "execution_count": null,
   "id": "195b91b6",
   "metadata": {},
   "outputs": [],
   "source": []
  }
 ],
 "metadata": {
  "kernelspec": {
   "display_name": "Python 3",
   "language": "python",
   "name": "python3"
  },
  "language_info": {
   "codemirror_mode": {
    "name": "ipython",
    "version": 3
   },
   "file_extension": ".py",
   "mimetype": "text/x-python",
   "name": "python",
   "nbconvert_exporter": "python",
   "pygments_lexer": "ipython3",
   "version": "3.8.8"
  }
 },
 "nbformat": 4,
 "nbformat_minor": 5
}
