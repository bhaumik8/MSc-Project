{
 "cells": [
  {
   "cell_type": "code",
   "execution_count": 10,
   "id": "93a8bcd1",
   "metadata": {},
   "outputs": [],
   "source": [
    "import numpy as np\n",
    "import pandas as pd\n",
    "import tensorflow as tf\n",
    "import matplotlib as plt"
   ]
  },
  {
   "cell_type": "code",
   "execution_count": 11,
   "id": "af988f9e",
   "metadata": {},
   "outputs": [],
   "source": [
    "# Importing dataset using short_name as df3\n",
    "\n",
    "df3=pd.read_csv(\"E:/Data/use data/csv/PT_crime_rates_by_per_million_passenger_journeys.csv\")"
   ]
  },
  {
   "cell_type": "code",
   "execution_count": 12,
   "id": "f827c6c8",
   "metadata": {},
   "outputs": [
    {
     "data": {
      "text/html": [
       "<div>\n",
       "<style scoped>\n",
       "    .dataframe tbody tr th:only-of-type {\n",
       "        vertical-align: middle;\n",
       "    }\n",
       "\n",
       "    .dataframe tbody tr th {\n",
       "        vertical-align: top;\n",
       "    }\n",
       "\n",
       "    .dataframe thead th {\n",
       "        text-align: right;\n",
       "    }\n",
       "</style>\n",
       "<table border=\"1\" class=\"dataframe\">\n",
       "  <thead>\n",
       "    <tr style=\"text-align: right;\">\n",
       "      <th></th>\n",
       "      <th>Month</th>\n",
       "      <th>Bus</th>\n",
       "      <th>Underground</th>\n",
       "      <th>Tramlink</th>\n",
       "    </tr>\n",
       "  </thead>\n",
       "  <tbody>\n",
       "    <tr>\n",
       "      <th>0</th>\n",
       "      <td>04/09/22</td>\n",
       "      <td>11.3</td>\n",
       "      <td>13.3</td>\n",
       "      <td>17.4</td>\n",
       "    </tr>\n",
       "    <tr>\n",
       "      <th>1</th>\n",
       "      <td>05/09/22</td>\n",
       "      <td>11.1</td>\n",
       "      <td>14.6</td>\n",
       "      <td>18.1</td>\n",
       "    </tr>\n",
       "    <tr>\n",
       "      <th>2</th>\n",
       "      <td>06/09/22</td>\n",
       "      <td>11.1</td>\n",
       "      <td>13.1</td>\n",
       "      <td>17.4</td>\n",
       "    </tr>\n",
       "    <tr>\n",
       "      <th>3</th>\n",
       "      <td>07/09/22</td>\n",
       "      <td>11.2</td>\n",
       "      <td>12.5</td>\n",
       "      <td>16.3</td>\n",
       "    </tr>\n",
       "    <tr>\n",
       "      <th>4</th>\n",
       "      <td>08/09/22</td>\n",
       "      <td>9.7</td>\n",
       "      <td>13.2</td>\n",
       "      <td>17.4</td>\n",
       "    </tr>\n",
       "  </tbody>\n",
       "</table>\n",
       "</div>"
      ],
      "text/plain": [
       "      Month   Bus  Underground  Tramlink\n",
       "0  04/09/22  11.3         13.3      17.4\n",
       "1  05/09/22  11.1         14.6      18.1\n",
       "2  06/09/22  11.1         13.1      17.4\n",
       "3  07/09/22  11.2         12.5      16.3\n",
       "4  08/09/22   9.7         13.2      17.4"
      ]
     },
     "execution_count": 12,
     "metadata": {},
     "output_type": "execute_result"
    }
   ],
   "source": [
    "df3.head()"
   ]
  },
  {
   "cell_type": "code",
   "execution_count": 13,
   "id": "27058f2e",
   "metadata": {},
   "outputs": [
    {
     "data": {
      "text/plain": [
       "Month          0.0\n",
       "Bus            0.0\n",
       "Underground    0.0\n",
       "Tramlink       0.0\n",
       "dtype: float64"
      ]
     },
     "execution_count": 13,
     "metadata": {},
     "output_type": "execute_result"
    }
   ],
   "source": [
    "#Checking null values\n",
    "df3.isnull().sum()/len(df3)*100"
   ]
  },
  {
   "cell_type": "code",
   "execution_count": 14,
   "id": "0a8a2caa",
   "metadata": {},
   "outputs": [
    {
     "name": "stdout",
     "output_type": "stream",
     "text": [
      "<class 'pandas.core.frame.DataFrame'>\n",
      "RangeIndex: 132 entries, 0 to 131\n",
      "Data columns (total 4 columns):\n",
      " #   Column       Non-Null Count  Dtype  \n",
      "---  ------       --------------  -----  \n",
      " 0   Month        132 non-null    object \n",
      " 1   Bus          132 non-null    float64\n",
      " 2   Underground  132 non-null    float64\n",
      " 3   Tramlink     132 non-null    float64\n",
      "dtypes: float64(3), object(1)\n",
      "memory usage: 4.2+ KB\n"
     ]
    }
   ],
   "source": [
    "df3.info()"
   ]
  },
  {
   "cell_type": "code",
   "execution_count": 15,
   "id": "d2201358",
   "metadata": {},
   "outputs": [
    {
     "data": {
      "text/plain": [
       "<AxesSubplot:title={'center':'PT_crime_rates_by_per_million_passenger_journeys'}>"
      ]
     },
     "execution_count": 15,
     "metadata": {},
     "output_type": "execute_result"
    },
    {
     "data": {
      "image/png": "[encoded data removed]",
      "text/plain": [
       "<Figure size 432x288 with 3 Axes>"
      ]
     },
     "metadata": {
      "needs_background": "light"
     },
     "output_type": "display_data"
    },
    {
     "data": {
      "image/png": "[encoded data removed]",
      "text/plain": [
       "<Figure size 432x288 with 1 Axes>"
      ]
     },
     "metadata": {
      "needs_background": "light"
     },
     "output_type": "display_data"
    }
   ],
   "source": [
    "#Visualize the London_underground_average_monthly_temp\n",
    "df3.plot.line(subplots = True, title='PT_crime_rates_by_per_million_passenger_journeys')\n",
    "df3.plot(title='PT_crime_rates_by_per_million_passenger_journeys')"
   ]
  },
  {
   "cell_type": "code",
   "execution_count": 16,
   "id": "0da2c7c3",
   "metadata": {},
   "outputs": [
    {
     "name": "stderr",
     "output_type": "stream",
     "text": [
      "D:\\Programs\\Anaconda\\lib\\site-packages\\seaborn\\_decorators.py:36: FutureWarning: Pass the following variable as a keyword arg: x. From version 0.12, the only valid positional argument will be `data`, and passing other arguments without an explicit keyword will result in an error or misinterpretation.\n",
      "  warnings.warn(\n"
     ]
    },
    {
     "data": {
      "text/plain": [
       "<AxesSubplot:xlabel='Bus'>"
      ]
     },
     "execution_count": 16,
     "metadata": {},
     "output_type": "execute_result"
    },
    {
     "data": {
      "image/png": "[encoded data removed]",
      "text/plain": [
       "<Figure size 432x288 with 1 Axes>"
      ]
     },
     "metadata": {
      "needs_background": "light"
     },
     "output_type": "display_data"
    }
   ],
   "source": [
    "# Box Plot\n",
    "import seaborn as sns\n",
    "sns.boxplot(df3['Bus'])"
   ]
  },
  {
   "cell_type": "code",
   "execution_count": 17,
   "id": "242222ce",
   "metadata": {
    "scrolled": true
   },
   "outputs": [
    {
     "name": "stderr",
     "output_type": "stream",
     "text": [
      "D:\\Programs\\Anaconda\\lib\\site-packages\\seaborn\\_decorators.py:36: FutureWarning: Pass the following variable as a keyword arg: x. From version 0.12, the only valid positional argument will be `data`, and passing other arguments without an explicit keyword will result in an error or misinterpretation.\n",
      "  warnings.warn(\n"
     ]
    },
    {
     "data": {
      "text/plain": [
       "<AxesSubplot:xlabel='Underground'>"
      ]
     },
     "execution_count": 17,
     "metadata": {},
     "output_type": "execute_result"
    },
    {
     "data": {
      "image/png": "[encoded data removed]",
      "text/plain": [
       "<Figure size 432x288 with 1 Axes>"
      ]
     },
     "metadata": {
      "needs_background": "light"
     },
     "output_type": "display_data"
    }
   ],
   "source": [
    "sns.boxplot(df3['Underground'])"
   ]
  },
  {
   "cell_type": "code",
   "execution_count": 18,
   "id": "63ec4e5d",
   "metadata": {},
   "outputs": [
    {
     "name": "stderr",
     "output_type": "stream",
     "text": [
      "D:\\Programs\\Anaconda\\lib\\site-packages\\seaborn\\_decorators.py:36: FutureWarning: Pass the following variable as a keyword arg: x. From version 0.12, the only valid positional argument will be `data`, and passing other arguments without an explicit keyword will result in an error or misinterpretation.\n",
      "  warnings.warn(\n"
     ]
    },
    {
     "data": {
      "text/plain": [
       "<AxesSubplot:xlabel='Tramlink'>"
      ]
     },
     "execution_count": 18,
     "metadata": {},
     "output_type": "execute_result"
    },
    {
     "data": {
      "image/png": "[encoded data removed]",
      "text/plain": [
       "<Figure size 432x288 with 1 Axes>"
      ]
     },
     "metadata": {
      "needs_background": "light"
     },
     "output_type": "display_data"
    }
   ],
   "source": [
    "sns.boxplot(df3['Tramlink'])"
   ]
  },
  {
   "cell_type": "code",
   "execution_count": 19,
   "id": "3f6d8ea8",
   "metadata": {},
   "outputs": [
    {
     "name": "stdout",
     "output_type": "stream",
     "text": [
      "Data =  [[ 5.19176637 19.98598237  5.7282834   9.44831218]]\n",
      "Normalized Data =  [[0.22168465 0.85338693 0.24459354 0.40343607]]\n"
     ]
    }
   ],
   "source": [
    "#Data normalization\n",
    "from sklearn import preprocessing\n",
    "import numpy as np\n",
    "a = np.random.random((1, 4))\n",
    "a = a*20\n",
    "print(\"Data = \", a)\n",
    "# normalize the data attributes\n",
    "normalized = preprocessing.normalize(a)\n",
    "print(\"Normalized Data = \", normalized)"
   ]
  },
  {
   "cell_type": "code",
   "execution_count": 20,
   "id": "26314a0a",
   "metadata": {},
   "outputs": [],
   "source": [
    "import matplotlib.pyplot as plt\n",
    "%matplotlib inline"
   ]
  },
  {
   "cell_type": "code",
   "execution_count": 21,
   "id": "08d97319",
   "metadata": {},
   "outputs": [
    {
     "data": {
      "text/plain": [
       "<matplotlib.collections.PathCollection at 0x21cda039430>"
      ]
     },
     "execution_count": 21,
     "metadata": {},
     "output_type": "execute_result"
    },
    {
     "data": {
      "image/png": "[encoded data removed]",
      "text/plain": [
       "<Figure size 432x288 with 1 Axes>"
      ]
     },
     "metadata": {
      "needs_background": "light"
     },
     "output_type": "display_data"
    }
   ],
   "source": [
    "#visualise crime rates by passenger of Bus\n",
    "plt.scatter(df3['Month'],df3['Bus'])"
   ]
  },
  {
   "cell_type": "code",
   "execution_count": 33,
   "id": "d1b84240",
   "metadata": {},
   "outputs": [
    {
     "data": {
      "text/plain": [
       "<matplotlib.collections.PathCollection at 0x207f0636eb0>"
      ]
     },
     "execution_count": 33,
     "metadata": {},
     "output_type": "execute_result"
    },
    {
     "data": {
      "image/png": "[encoded data removed]",
      "text/plain": [
       "<Figure size 432x288 with 1 Axes>"
      ]
     },
     "metadata": {
      "needs_background": "light"
     },
     "output_type": "display_data"
    }
   ],
   "source": [
    "#visualise crime rates by passenger of Underground\n",
    "plt.scatter(df3['Month'],df3['Underground'])"
   ]
  },
  {
   "cell_type": "code",
   "execution_count": 34,
   "id": "704b9fb0",
   "metadata": {},
   "outputs": [
    {
     "data": {
      "text/plain": [
       "<matplotlib.collections.PathCollection at 0x207f07a43a0>"
      ]
     },
     "execution_count": 34,
     "metadata": {},
     "output_type": "execute_result"
    },
    {
     "data": {
      "image/png": "[encoded data removed]",
      "text/plain": [
       "<Figure size 432x288 with 1 Axes>"
      ]
     },
     "metadata": {
      "needs_background": "light"
     },
     "output_type": "display_data"
    }
   ],
   "source": [
    "#visualise crime rates by passenger of Tramlink\n",
    "plt.scatter(df3['Month'],df3['Tramlink'])"
   ]
  },
  {
   "cell_type": "code",
   "execution_count": 22,
   "id": "6e5d3373",
   "metadata": {},
   "outputs": [
    {
     "name": "stdout",
     "output_type": "stream",
     "text": [
      "      Bus\n",
      "0    11.3\n",
      "1    11.1\n",
      "2    11.1\n",
      "3    11.2\n",
      "4     9.7\n",
      "..    ...\n",
      "125   7.1\n",
      "126   8.9\n",
      "127   8.0\n",
      "128   7.6\n",
      "129   7.9\n",
      "\n",
      "[130 rows x 1 columns]\n",
      "(130, 1)\n"
     ]
    }
   ],
   "source": [
    "#Drop the Month, Underground, Tramlink columns\n",
    "df3.drop(['Month','Underground','Tramlink'], axis = 1, inplace = True)\n",
    "#Drop the bottom 2 columns\n",
    "df3.drop(df3.tail(2).index,inplace=True)\n",
    "print(df3)\n",
    "print(df3.shape)"
   ]
  },
  {
   "cell_type": "code",
   "execution_count": 24,
   "id": "4bf4dd0c",
   "metadata": {},
   "outputs": [
    {
     "data": {
      "text/plain": [
       "array([[11.3],\n",
       "       [11.1],\n",
       "       [11.1],\n",
       "       [11.2],\n",
       "       [ 9.7],\n",
       "       [ 9.6],\n",
       "       [11. ],\n",
       "       [11.6],\n",
       "       [10.9],\n",
       "       [10.6],\n",
       "       [12. ],\n",
       "       [12. ],\n",
       "       [10.7],\n",
       "       [10. ],\n",
       "       [10.6],\n",
       "       [10.9],\n",
       "       [10.6],\n",
       "       [ 9.7],\n",
       "       [10.5],\n",
       "       [10.5],\n",
       "       [10.3],\n",
       "       [10.7],\n",
       "       [11.1],\n",
       "       [10.2],\n",
       "       [ 9.7],\n",
       "       [10. ],\n",
       "       [ 9.8],\n",
       "       [ 9.6],\n",
       "       [ 8.7],\n",
       "       [ 8. ],\n",
       "       [ 9.1],\n",
       "       [ 9.6],\n",
       "       [ 9.1],\n",
       "       [ 9.1],\n",
       "       [ 8.9],\n",
       "       [ 9.4],\n",
       "       [ 8.9],\n",
       "       [ 8.5],\n",
       "       [ 8.8],\n",
       "       [ 9.1],\n",
       "       [ 8.7],\n",
       "       [ 7.3],\n",
       "       [ 8.6],\n",
       "       [ 9. ],\n",
       "       [ 9.5],\n",
       "       [ 8.3],\n",
       "       [ 8.7],\n",
       "       [ 8.2],\n",
       "       [ 8.2],\n",
       "       [ 7.8],\n",
       "       [ 7.8],\n",
       "       [ 7.9],\n",
       "       [ 8.6],\n",
       "       [ 7.6],\n",
       "       [ 7.9],\n",
       "       [ 7.3],\n",
       "       [ 7.1],\n",
       "       [ 6.9],\n",
       "       [ 7.2],\n",
       "       [ 6.8],\n",
       "       [ 6.8],\n",
       "       [ 6.6],\n",
       "       [ 6.9],\n",
       "       [ 6.8],\n",
       "       [ 6.6],\n",
       "       [ 7.4],\n",
       "       [ 7.4],\n",
       "       [ 7.4],\n",
       "       [ 8. ],\n",
       "       [ 7.9],\n",
       "       [ 7.6],\n",
       "       [ 7.7],\n",
       "       [ 7.2],\n",
       "       [ 7.1],\n",
       "       [ 7.3],\n",
       "       [ 7.6],\n",
       "       [ 7.9],\n",
       "       [ 6.9],\n",
       "       [ 7.6],\n",
       "       [ 8.3],\n",
       "       [ 8.3],\n",
       "       [ 7.5],\n",
       "       [ 7.7],\n",
       "       [ 7.2],\n",
       "       [ 7.1],\n",
       "       [ 7.7],\n",
       "       [ 8.1],\n",
       "       [ 7.9],\n",
       "       [ 8.3],\n",
       "       [ 7.3],\n",
       "       [ 7.6],\n",
       "       [ 7.3],\n",
       "       [ 7.8],\n",
       "       [ 6.6],\n",
       "       [ 7.3],\n",
       "       [ 7.7],\n",
       "       [ 6.6],\n",
       "       [ 7. ],\n",
       "       [ 7.2],\n",
       "       [ 8.1],\n",
       "       [ 7.1],\n",
       "       [ 6.5],\n",
       "       [ 7.1],\n",
       "       [ 7.8],\n",
       "       [ 7.1],\n",
       "       [ 6.5],\n",
       "       [ 7.2],\n",
       "       [ 6.9],\n",
       "       [ 6.1],\n",
       "       [ 6.3],\n",
       "       [ 6.1],\n",
       "       [ 6.8],\n",
       "       [ 6.2],\n",
       "       [ 6.2],\n",
       "       [ 7. ],\n",
       "       [ 7.6],\n",
       "       [ 7.3],\n",
       "       [ 7.2],\n",
       "       [ 8. ],\n",
       "       [ 8.1],\n",
       "       [ 8. ],\n",
       "       [ 7.4],\n",
       "       [ 8.3],\n",
       "       [ 7.8],\n",
       "       [ 7. ],\n",
       "       [ 7.1],\n",
       "       [ 8.9],\n",
       "       [ 8. ],\n",
       "       [ 7.6],\n",
       "       [ 7.9]])"
      ]
     },
     "execution_count": 24,
     "metadata": {},
     "output_type": "execute_result"
    }
   ],
   "source": [
    "#Convert the data into numpy array\n",
    "df3 = df3.to_numpy()\n",
    "df3"
   ]
  },
  {
   "cell_type": "code",
   "execution_count": 25,
   "id": "6a834054",
   "metadata": {},
   "outputs": [
    {
     "name": "stdout",
     "output_type": "stream",
     "text": [
      "(104, 1)\n",
      "(26, 1)\n"
     ]
    }
   ],
   "source": [
    "#From the dataset, separate into training and testing data with 80/20 percentile\n",
    "dataset_train = np.array(df3[:int(df3.shape[0]*0.8)])\n",
    "dataset_test = np.array(df3[int(df3.shape[0]*0.8):])\n",
    "#Find number of columns for each dataset\n",
    "print(dataset_train.shape)\n",
    "print(dataset_test.shape)"
   ]
  },
  {
   "cell_type": "code",
   "execution_count": 27,
   "id": "0105b455",
   "metadata": {},
   "outputs": [
    {
     "data": {
      "text/plain": [
       "(104, 1)"
      ]
     },
     "execution_count": 27,
     "metadata": {},
     "output_type": "execute_result"
    }
   ],
   "source": [
    "#Scale the data to range[0,1]\n",
    "#MinMaxScalar subtracts the minimum value in each feature and divides by the range(diff\n",
    "from sklearn.preprocessing import MinMaxScaler\n",
    "scalar = MinMaxScaler(feature_range = (0,1))\n",
    "train_data = scalar.fit_transform(dataset_train)\n",
    "train_data.shape"
   ]
  },
  {
   "cell_type": "code",
   "execution_count": 28,
   "id": "32aeb516",
   "metadata": {},
   "outputs": [
    {
     "data": {
      "text/plain": [
       "(98, 1, 1)"
      ]
     },
     "execution_count": 28,
     "metadata": {},
     "output_type": "execute_result"
    }
   ],
   "source": [
    "#Declare the x_train and y_train\n",
    "x_train = train_data[0:98]\n",
    "y_train = train_data[1:99]\n",
    "x_train = np.reshape(x_train, (98,1,1))\n",
    "x_train.shape"
   ]
  },
  {
   "cell_type": "code",
   "execution_count": 29,
   "id": "e451af35",
   "metadata": {},
   "outputs": [
    {
     "name": "stdout",
     "output_type": "stream",
     "text": [
      "Model: \"sequential\"\n",
      "_________________________________________________________________\n",
      " Layer (type)                Output Shape              Param #   \n",
      "=================================================================\n",
      " lstm (LSTM)                 (None, None, 98)          39200     \n",
      "                                                                 \n",
      " dropout (Dropout)           (None, None, 98)          0         \n",
      "                                                                 \n",
      " lstm_1 (LSTM)               (None, None, 98)          77224     \n",
      "                                                                 \n",
      " dropout_1 (Dropout)         (None, None, 98)          0         \n",
      "                                                                 \n",
      " lstm_2 (LSTM)               (None, None, 98)          77224     \n",
      "                                                                 \n",
      " dropout_2 (Dropout)         (None, None, 98)          0         \n",
      "                                                                 \n",
      " lstm_3 (LSTM)               (None, 98)                77224     \n",
      "                                                                 \n",
      " dropout_3 (Dropout)         (None, 98)                0         \n",
      "                                                                 \n",
      " dense (Dense)               (None, 1)                 99        \n",
      "                                                                 \n",
      "=================================================================\n",
      "Total params: 270,971\n",
      "Trainable params: 270,971\n",
      "Non-trainable params: 0\n",
      "_________________________________________________________________\n"
     ]
    }
   ],
   "source": [
    "#Importing Inmportant libraries\n",
    "import keras\n",
    "from keras import layers\n",
    "from keras import models\n",
    "from keras.models import Sequential\n",
    "from keras.layers import Dense\n",
    "from keras.layers import Dropout\n",
    "from keras.layers import LSTM\n",
    "#Instantiate the Sequential model class\n",
    "model = Sequential()\n",
    "#Set the number of neurons/nodes with the units parameter\n",
    "#Return_sequences=True reflects adding more layers\n",
    "model.add(LSTM(units=98, return_sequences=True, input_shape=(None, 1)))\n",
    "#Add dropout to reduce over-fitting\n",
    "model.add(Dropout(0.2))\n",
    "model.add(LSTM(units=98, return_sequences=True))\n",
    "model.add(Dropout(0.2))\n",
    "model.add(LSTM(units=98, return_sequences=True))\n",
    "model.add(Dropout(0.2))\n",
    "model.add(LSTM(units=98))\n",
    "model.add(Dropout(0.2))\n",
    "#Add dense layer to reduce spacial parameters of the vector\n",
    "model.add(Dense(units=1))\n",
    "model.summary()"
   ]
  },
  {
   "cell_type": "code",
   "execution_count": 30,
   "id": "d553bbe9",
   "metadata": {},
   "outputs": [],
   "source": [
    "#Compile the model\n",
    "model.compile(optimizer = 'adam', loss = \"mean_squared_error\")"
   ]
  },
  {
   "cell_type": "code",
   "execution_count": 31,
   "id": "612b5f84",
   "metadata": {},
   "outputs": [
    {
     "name": "stdout",
     "output_type": "stream",
     "text": [
      "Epoch 1/100\n",
      "1/1 [==============================] - 4s 4s/step - loss: 0.2127\n",
      "Epoch 2/100\n",
      "1/1 [==============================] - 0s 9ms/step - loss: 0.2090\n",
      "Epoch 3/100\n",
      "1/1 [==============================] - 0s 11ms/step - loss: 0.2052\n",
      "Epoch 4/100\n",
      "1/1 [==============================] - 0s 13ms/step - loss: 0.2013\n",
      "Epoch 5/100\n",
      "1/1 [==============================] - 0s 9ms/step - loss: 0.1975\n",
      "Epoch 6/100\n",
      "1/1 [==============================] - 0s 10ms/step - loss: 0.1932\n",
      "Epoch 7/100\n",
      "1/1 [==============================] - 0s 10ms/step - loss: 0.1891\n",
      "Epoch 8/100\n",
      "1/1 [==============================] - 0s 15ms/step - loss: 0.1844\n",
      "Epoch 9/100\n",
      "1/1 [==============================] - 0s 15ms/step - loss: 0.1798\n",
      "Epoch 10/100\n",
      "1/1 [==============================] - 0s 15ms/step - loss: 0.1748\n",
      "Epoch 11/100\n",
      "1/1 [==============================] - 0s 14ms/step - loss: 0.1696\n",
      "Epoch 12/100\n",
      "1/1 [==============================] - 0s 13ms/step - loss: 0.1639\n",
      "Epoch 13/100\n",
      "1/1 [==============================] - 0s 13ms/step - loss: 0.1592\n",
      "Epoch 14/100\n",
      "1/1 [==============================] - 0s 10ms/step - loss: 0.1525\n",
      "Epoch 15/100\n",
      "1/1 [==============================] - 0s 14ms/step - loss: 0.1463\n",
      "Epoch 16/100\n",
      "1/1 [==============================] - 0s 9ms/step - loss: 0.1389\n",
      "Epoch 17/100\n",
      "1/1 [==============================] - 0s 12ms/step - loss: 0.1324\n",
      "Epoch 18/100\n",
      "1/1 [==============================] - 0s 10ms/step - loss: 0.1257\n",
      "Epoch 19/100\n",
      "1/1 [==============================] - 0s 11ms/step - loss: 0.1185\n",
      "Epoch 20/100\n",
      "1/1 [==============================] - 0s 9ms/step - loss: 0.1113\n",
      "Epoch 21/100\n",
      "1/1 [==============================] - 0s 10ms/step - loss: 0.1018\n",
      "Epoch 22/100\n",
      "1/1 [==============================] - 0s 11ms/step - loss: 0.0936\n",
      "Epoch 23/100\n",
      "1/1 [==============================] - 0s 10ms/step - loss: 0.0854\n",
      "Epoch 24/100\n",
      "1/1 [==============================] - 0s 9ms/step - loss: 0.0769\n",
      "Epoch 25/100\n",
      "1/1 [==============================] - 0s 11ms/step - loss: 0.0704\n",
      "Epoch 26/100\n",
      "1/1 [==============================] - 0s 12ms/step - loss: 0.0643\n",
      "Epoch 27/100\n",
      "1/1 [==============================] - 0s 10ms/step - loss: 0.0556\n",
      "Epoch 28/100\n",
      "1/1 [==============================] - 0s 8ms/step - loss: 0.0541\n",
      "Epoch 29/100\n",
      "1/1 [==============================] - 0s 11ms/step - loss: 0.0490\n",
      "Epoch 30/100\n",
      "1/1 [==============================] - 0s 11ms/step - loss: 0.0536\n",
      "Epoch 31/100\n",
      "1/1 [==============================] - 0s 9ms/step - loss: 0.0531\n",
      "Epoch 32/100\n",
      "1/1 [==============================] - 0s 22ms/step - loss: 0.0590\n",
      "Epoch 33/100\n",
      "1/1 [==============================] - 0s 11ms/step - loss: 0.0627\n",
      "Epoch 34/100\n",
      "1/1 [==============================] - 0s 10ms/step - loss: 0.0610\n",
      "Epoch 35/100\n",
      "1/1 [==============================] - 0s 9ms/step - loss: 0.0596\n",
      "Epoch 36/100\n",
      "1/1 [==============================] - 0s 9ms/step - loss: 0.0564\n",
      "Epoch 37/100\n",
      "1/1 [==============================] - 0s 11ms/step - loss: 0.0552\n",
      "Epoch 38/100\n",
      "1/1 [==============================] - 0s 9ms/step - loss: 0.0530\n",
      "Epoch 39/100\n",
      "1/1 [==============================] - 0s 9ms/step - loss: 0.0504\n",
      "Epoch 40/100\n",
      "1/1 [==============================] - 0s 10ms/step - loss: 0.0466\n",
      "Epoch 41/100\n",
      "1/1 [==============================] - 0s 10ms/step - loss: 0.0398\n",
      "Epoch 42/100\n",
      "1/1 [==============================] - 0s 9ms/step - loss: 0.0440\n",
      "Epoch 43/100\n",
      "1/1 [==============================] - 0s 10ms/step - loss: 0.0421\n",
      "Epoch 44/100\n",
      "1/1 [==============================] - 0s 10ms/step - loss: 0.0429\n",
      "Epoch 45/100\n",
      "1/1 [==============================] - 0s 9ms/step - loss: 0.0453\n",
      "Epoch 46/100\n",
      "1/1 [==============================] - 0s 9ms/step - loss: 0.0458\n",
      "Epoch 47/100\n",
      "1/1 [==============================] - 0s 8ms/step - loss: 0.0421\n",
      "Epoch 48/100\n",
      "1/1 [==============================] - 0s 10ms/step - loss: 0.0417\n",
      "Epoch 49/100\n",
      "1/1 [==============================] - 0s 10ms/step - loss: 0.0399\n",
      "Epoch 50/100\n",
      "1/1 [==============================] - 0s 10ms/step - loss: 0.0388\n",
      "Epoch 51/100\n",
      "1/1 [==============================] - 0s 10ms/step - loss: 0.0366\n",
      "Epoch 52/100\n",
      "1/1 [==============================] - 0s 11ms/step - loss: 0.0379\n",
      "Epoch 53/100\n",
      "1/1 [==============================] - 0s 8ms/step - loss: 0.0358\n",
      "Epoch 54/100\n",
      "1/1 [==============================] - 0s 10ms/step - loss: 0.0334\n",
      "Epoch 55/100\n",
      "1/1 [==============================] - 0s 10ms/step - loss: 0.0325\n",
      "Epoch 56/100\n",
      "1/1 [==============================] - 0s 8ms/step - loss: 0.0322\n",
      "Epoch 57/100\n",
      "1/1 [==============================] - 0s 9ms/step - loss: 0.0304\n",
      "Epoch 58/100\n",
      "1/1 [==============================] - 0s 11ms/step - loss: 0.0286\n",
      "Epoch 59/100\n",
      "1/1 [==============================] - 0s 9ms/step - loss: 0.0267\n",
      "Epoch 60/100\n",
      "1/1 [==============================] - 0s 11ms/step - loss: 0.0299\n",
      "Epoch 61/100\n",
      "1/1 [==============================] - 0s 9ms/step - loss: 0.0261\n",
      "Epoch 62/100\n",
      "1/1 [==============================] - 0s 10ms/step - loss: 0.0244\n",
      "Epoch 63/100\n",
      "1/1 [==============================] - 0s 11ms/step - loss: 0.0238\n",
      "Epoch 64/100\n",
      "1/1 [==============================] - 0s 10ms/step - loss: 0.0220\n",
      "Epoch 65/100\n",
      "1/1 [==============================] - 0s 10ms/step - loss: 0.0214\n",
      "Epoch 66/100\n",
      "1/1 [==============================] - 0s 10ms/step - loss: 0.0168\n",
      "Epoch 67/100\n",
      "1/1 [==============================] - 0s 10ms/step - loss: 0.0183\n",
      "Epoch 68/100\n",
      "1/1 [==============================] - 0s 10ms/step - loss: 0.0194\n",
      "Epoch 69/100\n",
      "1/1 [==============================] - 0s 10ms/step - loss: 0.0189\n",
      "Epoch 70/100\n",
      "1/1 [==============================] - 0s 10ms/step - loss: 0.0205\n",
      "Epoch 71/100\n",
      "1/1 [==============================] - 0s 9ms/step - loss: 0.0169\n",
      "Epoch 72/100\n",
      "1/1 [==============================] - 0s 9ms/step - loss: 0.0163\n",
      "Epoch 73/100\n",
      "1/1 [==============================] - 0s 8ms/step - loss: 0.0159\n",
      "Epoch 74/100\n",
      "1/1 [==============================] - 0s 10ms/step - loss: 0.0162\n",
      "Epoch 75/100\n",
      "1/1 [==============================] - 0s 9ms/step - loss: 0.0171\n",
      "Epoch 76/100\n",
      "1/1 [==============================] - 0s 9ms/step - loss: 0.0158\n",
      "Epoch 77/100\n",
      "1/1 [==============================] - 0s 8ms/step - loss: 0.0158\n",
      "Epoch 78/100\n",
      "1/1 [==============================] - 0s 10ms/step - loss: 0.0132\n",
      "Epoch 79/100\n",
      "1/1 [==============================] - 0s 7ms/step - loss: 0.0138\n",
      "Epoch 80/100\n",
      "1/1 [==============================] - 0s 8ms/step - loss: 0.0132\n",
      "Epoch 81/100\n",
      "1/1 [==============================] - 0s 8ms/step - loss: 0.0137\n",
      "Epoch 82/100\n",
      "1/1 [==============================] - 0s 7ms/step - loss: 0.0171\n",
      "Epoch 83/100\n",
      "1/1 [==============================] - 0s 9ms/step - loss: 0.0120\n",
      "Epoch 84/100\n",
      "1/1 [==============================] - 0s 8ms/step - loss: 0.0135\n",
      "Epoch 85/100\n",
      "1/1 [==============================] - 0s 8ms/step - loss: 0.0149\n",
      "Epoch 86/100\n",
      "1/1 [==============================] - 0s 8ms/step - loss: 0.0139\n",
      "Epoch 87/100\n",
      "1/1 [==============================] - 0s 9ms/step - loss: 0.0149\n",
      "Epoch 88/100\n",
      "1/1 [==============================] - 0s 9ms/step - loss: 0.0143\n",
      "Epoch 89/100\n",
      "1/1 [==============================] - 0s 9ms/step - loss: 0.0153\n",
      "Epoch 90/100\n",
      "1/1 [==============================] - 0s 8ms/step - loss: 0.0135\n",
      "Epoch 91/100\n",
      "1/1 [==============================] - 0s 9ms/step - loss: 0.0134\n",
      "Epoch 92/100\n",
      "1/1 [==============================] - 0s 10ms/step - loss: 0.0124\n",
      "Epoch 93/100\n",
      "1/1 [==============================] - 0s 9ms/step - loss: 0.0167\n",
      "Epoch 94/100\n",
      "1/1 [==============================] - 0s 8ms/step - loss: 0.0138\n",
      "Epoch 95/100\n",
      "1/1 [==============================] - 0s 7ms/step - loss: 0.0166\n",
      "Epoch 96/100\n",
      "1/1 [==============================] - 0s 8ms/step - loss: 0.0139\n",
      "Epoch 97/100\n",
      "1/1 [==============================] - 0s 8ms/step - loss: 0.0141\n",
      "Epoch 98/100\n",
      "1/1 [==============================] - 0s 9ms/step - loss: 0.0150\n",
      "Epoch 99/100\n",
      "1/1 [==============================] - 0s 9ms/step - loss: 0.0142\n",
      "Epoch 100/100\n",
      "1/1 [==============================] - 0s 10ms/step - loss: 0.0122\n"
     ]
    },
    {
     "data": {
      "text/plain": [
       "<keras.callbacks.History at 0x21ce3946970>"
      ]
     },
     "execution_count": 31,
     "metadata": {},
     "output_type": "execute_result"
    }
   ],
   "source": [
    "#Train the model for 100 epochs with 32 training examples used in each iteration\n",
    "model.fit(x_train, y_train, epochs = 100, batch_size = 98)"
   ]
  },
  {
   "cell_type": "code",
   "execution_count": 32,
   "id": "d08f2c21",
   "metadata": {},
   "outputs": [
    {
     "name": "stdout",
     "output_type": "stream",
     "text": [
      "[[7.1]\n",
      " [6.5]\n",
      " [7.2]\n",
      " [6.9]\n",
      " [6.1]\n",
      " [6.3]\n",
      " [6.1]\n",
      " [6.8]\n",
      " [6.2]\n",
      " [6.2]\n",
      " [7. ]\n",
      " [7.6]\n",
      " [7.3]\n",
      " [7.2]\n",
      " [8. ]\n",
      " [8.1]\n",
      " [8. ]\n",
      " [7.4]\n",
      " [8.3]\n",
      " [7.8]\n",
      " [7. ]\n",
      " [7.1]\n",
      " [8.9]\n",
      " [8. ]\n",
      " [7.6]\n",
      " [7.9]]\n",
      "(26, 1)\n"
     ]
    }
   ],
   "source": [
    "#Display the testing dataset\n",
    "print(dataset_test)\n",
    "print(dataset_test.shape)"
   ]
  },
  {
   "cell_type": "code",
   "execution_count": 34,
   "id": "1dac5327",
   "metadata": {},
   "outputs": [
    {
     "data": {
      "text/plain": [
       "array([[7.262485 ],\n",
       "       [6.9052033],\n",
       "       [7.3259397],\n",
       "       [7.138997 ],\n",
       "       [6.6880503],\n",
       "       [6.7946157],\n",
       "       [6.6880503],\n",
       "       [7.078927 ],\n",
       "       [6.7408385],\n",
       "       [6.7408385],\n",
       "       [7.200177 ],\n",
       "       [7.591584 ],\n",
       "       [7.3905587],\n",
       "       [7.3259397],\n",
       "       [7.877025 ],\n",
       "       [7.9516153],\n",
       "       [7.877025 ],\n",
       "       [7.456361 ],\n",
       "       [8.104801 ],\n",
       "       [7.731756 ],\n",
       "       [7.200177 ],\n",
       "       [7.262485 ],\n",
       "       [8.597679 ],\n",
       "       [7.877025 ],\n",
       "       [7.591584 ],\n",
       "       [7.803745 ]], dtype=float32)"
      ]
     },
     "execution_count": 34,
     "metadata": {},
     "output_type": "execute_result"
    }
   ],
   "source": [
    "#Reshape the training data and scale\n",
    "inputs = np.reshape(scalar.transform(dataset_test), (26,1,1))\n",
    "#Reverse the scaled predictions to their original values\n",
    "Bus_CrimeRate_prediction = scalar.inverse_transform(model.predict(inputs))\n",
    "Bus_CrimeRate_prediction"
   ]
  },
  {
   "cell_type": "code",
   "execution_count": 35,
   "id": "3a945f51",
   "metadata": {},
   "outputs": [
    {
     "data": {
      "text/plain": [
       "array([7.262485 , 6.9052033, 7.3259397, 7.138997 , 6.6880503, 6.7946157,\n",
       "       6.6880503, 7.078927 , 6.7408385, 6.7408385, 7.200177 , 7.591584 ,\n",
       "       7.3905587, 7.3259397, 7.877025 , 7.9516153, 7.877025 , 7.456361 ,\n",
       "       8.104801 , 7.731756 , 7.200177 , 7.262485 , 8.597679 , 7.877025 ,\n",
       "       7.591584 , 7.803745 ], dtype=float32)"
      ]
     },
     "execution_count": 35,
     "metadata": {},
     "output_type": "execute_result"
    }
   ],
   "source": [
    "Bus_CrimeRate_prediction = np.squeeze(Bus_CrimeRate_prediction)\n",
    "Bus_CrimeRate_prediction"
   ]
  },
  {
   "cell_type": "code",
   "execution_count": 36,
   "id": "249f629e",
   "metadata": {},
   "outputs": [
    {
     "data": {
      "text/plain": [
       "array([[7.262485 ],\n",
       "       [6.9052033],\n",
       "       [7.3259397],\n",
       "       [7.138997 ],\n",
       "       [6.6880503],\n",
       "       [6.7946157],\n",
       "       [6.6880503],\n",
       "       [7.078927 ],\n",
       "       [6.7408385],\n",
       "       [6.7408385],\n",
       "       [7.200177 ],\n",
       "       [7.591584 ],\n",
       "       [7.3905587],\n",
       "       [7.3259397],\n",
       "       [7.877025 ],\n",
       "       [7.9516153],\n",
       "       [7.877025 ],\n",
       "       [7.456361 ],\n",
       "       [8.104801 ],\n",
       "       [7.731756 ],\n",
       "       [7.200177 ],\n",
       "       [7.262485 ],\n",
       "       [8.597679 ],\n",
       "       [7.877025 ],\n",
       "       [7.591584 ],\n",
       "       [7.803745 ]], dtype=float32)"
      ]
     },
     "execution_count": 36,
     "metadata": {},
     "output_type": "execute_result"
    }
   ],
   "source": [
    "Bus_CrimeRate_prediction = Bus_CrimeRate_prediction.reshape(-1,1)\n",
    "Bus_CrimeRate_prediction"
   ]
  },
  {
   "cell_type": "code",
   "execution_count": 37,
   "id": "bc8128d6",
   "metadata": {},
   "outputs": [
    {
     "data": {
      "image/png": "[encoded data removed]",
      "text/plain": [
       "<Figure size 432x288 with 1 Axes>"
      ]
     },
     "metadata": {
      "needs_background": "light"
     },
     "output_type": "display_data"
    }
   ],
   "source": [
    "#Graph the real stock prices against the model's prediction\n",
    "plt.plot(Bus_CrimeRate_prediction, label = 'Predicted Bus Crime Rate (in millions)', linewidth = 1.5)\n",
    "plt.plot(dataset_test, label = 'Real Bus Crime Rates (in millions)', linewidth = 1.5)\n",
    "plt.title(\"PT Bus Crime Rate Prediction with LSTM's\")\n",
    "plt.xlabel('Days')\n",
    "plt.ylabel('Total Number of Crime in BUS(in millions)')\n",
    "plt.legend()\n",
    "plt.show()"
   ]
  },
  {
   "cell_type": "code",
   "execution_count": null,
   "id": "195b91b6",
   "metadata": {},
   "outputs": [],
   "source": []
  }
 ],
 "metadata": {
  "kernelspec": {
   "display_name": "Python 3",
   "language": "python",
   "name": "python3"
  },
  "language_info": {
   "codemirror_mode": {
    "name": "ipython",
    "version": 3
   },
   "file_extension": ".py",
   "mimetype": "text/x-python",
   "name": "python",
   "nbconvert_exporter": "python",
   "pygments_lexer": "ipython3",
   "version": "3.8.8"
  }
 },
 "nbformat": 4,
 "nbformat_minor": 5
}
